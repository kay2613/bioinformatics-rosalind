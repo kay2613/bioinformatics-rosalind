{
  "nbformat": 4,
  "nbformat_minor": 0,
  "metadata": {
    "colab": {
      "provenance": []
    },
    "kernelspec": {
      "name": "python3",
      "display_name": "Python 3"
    },
    "language_info": {
      "name": "python"
    }
  },
  "cells": [
    {
      "cell_type": "markdown",
      "source": [
        "# **<font color=blue>P1.** </font>Rename this notebook **Bioinformatics_Module03.ipynb </font><br>**"
      ],
      "metadata": {
        "id": "l3h89jAYBUzz"
      }
    },
    {
      "cell_type": "markdown",
      "source": [
        "# **<font color=blue>P2. </font>**```print()```writes to standard output (i.e. prints output to the screen)"
      ],
      "metadata": {
        "id": "jYlnA2Z2FhoW"
      }
    },
    {
      "cell_type": "markdown",
      "source": [
        "####**TASK P2.1:** Print <font color = magenta>hello world</font>"
      ],
      "metadata": {
        "id": "r118fqQodA9x"
      }
    },
    {
      "cell_type": "code",
      "source": [
        "print(\"hello world\")"
      ],
      "metadata": {
        "id": "kvxK8D5uFx_x",
        "colab": {
          "base_uri": "https://localhost:8080/"
        },
        "outputId": "6f7a1e19-1593-4afe-ae65-5d6f16a74f84"
      },
      "execution_count": 14,
      "outputs": [
        {
          "output_type": "stream",
          "name": "stdout",
          "text": [
            "hello world\n"
          ]
        }
      ]
    },
    {
      "cell_type": "markdown",
      "source": [
        "# **<font color=blue>P3. </font>**```=``` is the ASSIGNMENT operator (assigns values to variables)\n",
        "####**TASK P3.1:** Ask Gemini, \"*Give me 3 examples to help practice understanding the assignment operator.*\""
      ],
      "metadata": {
        "id": "qRj8vCvXG-1k"
      }
    },
    {
      "cell_type": "code",
      "source": [
        "x=5\n",
        "x"
      ],
      "metadata": {
        "id": "VB8HPNe7JpuJ",
        "colab": {
          "base_uri": "https://localhost:8080/"
        },
        "outputId": "721d1a61-6cf6-48d0-c78c-a1f6ece27d22"
      },
      "execution_count": 15,
      "outputs": [
        {
          "output_type": "execute_result",
          "data": {
            "text/plain": [
              "5"
            ]
          },
          "metadata": {},
          "execution_count": 15
        }
      ]
    },
    {
      "cell_type": "markdown",
      "source": [
        "# **<font color=blue>P4. </font>** Data types: use ```type()``` to find a variable's \"type\"\n",
        "####**TASK P4.1:** Ask Gemini, \"*Give me examples of each data type to see how they look as outputs.*\""
      ],
      "metadata": {
        "id": "s7deJQCHHwOa"
      }
    },
    {
      "cell_type": "code",
      "source": [
        "type(x)"
      ],
      "metadata": {
        "colab": {
          "base_uri": "https://localhost:8080/"
        },
        "id": "ktR75uWIJ0uc",
        "outputId": "8eac38b1-a167-4c54-e772-ee9362c98b88"
      },
      "execution_count": 16,
      "outputs": [
        {
          "output_type": "execute_result",
          "data": {
            "text/plain": [
              "int"
            ]
          },
          "metadata": {},
          "execution_count": 16
        }
      ]
    },
    {
      "cell_type": "markdown",
      "source": [
        "# **<font color=blue>P5. </font>** Arithmetic and comparison operators\n",
        "####**TASK P5.1:**   Complete Rosalind #1"
      ],
      "metadata": {
        "id": "GtjxkNHWN5Xo"
      }
    },
    {
      "cell_type": "code",
      "source": [
        "y=2+3\n",
        "print(y)\n",
        "x==y"
      ],
      "metadata": {
        "id": "45s9c4vyQm2U",
        "colab": {
          "base_uri": "https://localhost:8080/"
        },
        "outputId": "05a5532d-1e73-47b3-8a7a-c61a0ba22268"
      },
      "execution_count": 17,
      "outputs": [
        {
          "output_type": "stream",
          "name": "stdout",
          "text": [
            "5\n"
          ]
        },
        {
          "output_type": "execute_result",
          "data": {
            "text/plain": [
              "True"
            ]
          },
          "metadata": {},
          "execution_count": 17
        }
      ]
    },
    {
      "cell_type": "markdown",
      "source": [
        "# **<font color=blue>P6. </font>** ```input()``` gets input from the user"
      ],
      "metadata": {
        "id": "3yswDberkE7N"
      }
    },
    {
      "cell_type": "markdown",
      "source": [
        "TASK P6.1"
      ],
      "metadata": {
        "id": "z97rSY9gqdad"
      }
    },
    {
      "cell_type": "code",
      "metadata": {
        "colab": {
          "base_uri": "https://localhost:8080/"
        },
        "id": "d91046dd",
        "outputId": "b654f6c5-89a1-4282-b2dd-34fa6435dec9"
      },
      "source": [
        "name = input(\"Enter your name: \")\n",
        "print(\"Hello, \" + name)"
      ],
      "execution_count": 18,
      "outputs": [
        {
          "output_type": "stream",
          "name": "stdout",
          "text": [
            "Enter your name: Kaushik Budur\n",
            "Hello, Kaushik Budur\n"
          ]
        }
      ]
    },
    {
      "cell_type": "markdown",
      "source": [
        "####**TASK P6.1:** Solve Rosalind #1 again, but get user input for the values of a and b rather than modifying the code."
      ],
      "metadata": {
        "id": "e3LaAQeLRmE6"
      }
    },
    {
      "cell_type": "code",
      "source": [
        "a= int(input(\"enter a value for a:\"))\n",
        "b= int(input(\"enter a value for b:\"))\n",
        "c=a**2+b**2\n",
        "print (\"The sq of the hypotenuse is\",c)"
      ],
      "metadata": {
        "id": "wZ0XL0L6Rq2H",
        "colab": {
          "base_uri": "https://localhost:8080/"
        },
        "outputId": "7a401c8b-4435-456a-afb1-13ae6a857877"
      },
      "execution_count": 19,
      "outputs": [
        {
          "output_type": "stream",
          "name": "stdout",
          "text": [
            "enter a value for a:973\n",
            "enter a value for b:862\n",
            "The sq of the hypotenuse is 1689773\n"
          ]
        }
      ]
    },
    {
      "cell_type": "markdown",
      "source": [
        "# **<font color=blue>P7. </font>** ```list``` type variables (create, replace, append)"
      ],
      "metadata": {
        "id": "4IM-9eAGkPdi"
      }
    },
    {
      "cell_type": "markdown",
      "source": [
        "####**TASK P7.1**"
      ],
      "metadata": {
        "id": "DhNGdYK6NEpe"
      }
    },
    {
      "cell_type": "code",
      "source": [
        "# Create a list with 3 elements and then print them\n",
        "\n",
        "my_list = [\"Hello\", \"World\", \"Charles Darwin\"]\n",
        "print (my_list[1])"
      ],
      "metadata": {
        "id": "N3VRRQIEkXuP",
        "colab": {
          "base_uri": "https://localhost:8080/"
        },
        "outputId": "1cd8dfcc-aade-4dae-d750-bafc8895303d"
      },
      "execution_count": 20,
      "outputs": [
        {
          "output_type": "stream",
          "name": "stdout",
          "text": [
            "World\n"
          ]
        }
      ]
    },
    {
      "cell_type": "markdown",
      "source": [
        "####**TASK P7.2**"
      ],
      "metadata": {
        "id": "Yn3bAoi8NKy5"
      }
    },
    {
      "cell_type": "code",
      "source": [
        "# Substitute the item at index 2 in the list\n",
        "my_list[2] = \"Alfred R. Wallace\"\n",
        "print (my_list)"
      ],
      "metadata": {
        "id": "WNnsUuduOKbI",
        "colab": {
          "base_uri": "https://localhost:8080/"
        },
        "outputId": "3009d884-5da4-4e02-99e1-203cee13bd51"
      },
      "execution_count": 21,
      "outputs": [
        {
          "output_type": "stream",
          "name": "stdout",
          "text": [
            "['Hello', 'World', 'Alfred R. Wallace']\n"
          ]
        }
      ]
    },
    {
      "cell_type": "markdown",
      "source": [
        "####**TASK P7.3**"
      ],
      "metadata": {
        "id": "SxiMMNLyPwGV"
      }
    },
    {
      "cell_type": "code",
      "source": [
        "# Append an item to the end of the list\n",
        "my_list.append(\"Charles Darwin\")\n",
        "print (my_list)"
      ],
      "metadata": {
        "id": "3VrLc6CGQTi-",
        "colab": {
          "base_uri": "https://localhost:8080/"
        },
        "outputId": "46e372b3-5e4a-40c5-f067-75d4ebcc5332"
      },
      "execution_count": 22,
      "outputs": [
        {
          "output_type": "stream",
          "name": "stdout",
          "text": [
            "['Hello', 'World', 'Alfred R. Wallace', 'Charles Darwin']\n"
          ]
        }
      ]
    },
    {
      "cell_type": "markdown",
      "source": [
        "####**TASK P7.4**. Ask Gemini how to <font color=crimson>```insert```</font> a new item at index 1 in the list"
      ],
      "metadata": {
        "id": "XQKmwgbfQond"
      }
    },
    {
      "cell_type": "code",
      "source": [
        "# On line #2 insert an item at index 1 of my_list\n",
        "\n",
        "print (my_list)"
      ],
      "metadata": {
        "id": "u0maP5CZZN13",
        "colab": {
          "base_uri": "https://localhost:8080/"
        },
        "outputId": "2c0a9d55-f0a8-4921-d3fc-f894f7756c33"
      },
      "execution_count": 23,
      "outputs": [
        {
          "output_type": "stream",
          "name": "stdout",
          "text": [
            "['Hello', 'World', 'Alfred R. Wallace', 'Charles Darwin']\n"
          ]
        }
      ]
    },
    {
      "cell_type": "markdown",
      "source": [
        "# **<font color=blue>P8. </font>** Slicing lists and strings"
      ],
      "metadata": {
        "id": "nlBbe3qBRH_J"
      }
    },
    {
      "cell_type": "markdown",
      "source": [
        "####**TASK P8.1** Slice and print only the middle two elements from the list created in P7 (i.e. only <font color=magenta>World</font> and <font color=magenta>Alfred R. Wallace</font>).  "
      ],
      "metadata": {
        "id": "M0YW2MP0WtuI"
      }
    },
    {
      "cell_type": "code",
      "source": [
        "print (my_list[2:4])"
      ],
      "metadata": {
        "colab": {
          "base_uri": "https://localhost:8080/"
        },
        "id": "Tp1djNtiaxSb",
        "outputId": "cb629cf3-4899-4b81-cca2-ec62ec4309e1"
      },
      "execution_count": 24,
      "outputs": [
        {
          "output_type": "stream",
          "name": "stdout",
          "text": [
            "['Alfred R. Wallace', 'Charles Darwin']\n"
          ]
        }
      ]
    },
    {
      "cell_type": "markdown",
      "source": [
        "####**TASK P8.2**: Print <font color=magenta>Wallace World</font> from **my_string** by slicing\n"
      ],
      "metadata": {
        "id": "_F9KCUzCd3ID"
      }
    },
    {
      "cell_type": "code",
      "source": [
        "my_string = \"HelloWorldCharlesDarwinAlfred R. Walace\"\n",
        "print (my_string[0:5],my_string[5:10])\n",
        "\n",
        "# in the print command below input the correct index values to complete Task P8.2\n",
        "print (my_string[ : ],my_string[ : ])"
      ],
      "metadata": {
        "colab": {
          "base_uri": "https://localhost:8080/"
        },
        "id": "AafKngtba8En",
        "outputId": "596d6d82-1905-4b7a-a10b-473216b9eb16"
      },
      "execution_count": 25,
      "outputs": [
        {
          "output_type": "stream",
          "name": "stdout",
          "text": [
            "Hello World\n",
            "HelloWorldCharlesDarwinAlfred R. Walace HelloWorldCharlesDarwinAlfred R. Walace\n"
          ]
        }
      ]
    },
    {
      "cell_type": "markdown",
      "source": [
        "####**TASK P8.3**  **<font color = orange> Complete Rosalind Problem #2 Strings and Lists</font>**"
      ],
      "metadata": {
        "id": "2TTQVE-Xf8jR"
      }
    },
    {
      "cell_type": "code",
      "source": [
        "# Enter code for Rosalind 2 here:\n",
        "s = \"R5rWnTKxPhxiTFOTPZoT8uGDy611uQSuUNmmzNKuj85QBKjO4IGTylototritonMI2nCP2EzObvx8To88bFriSlGJtO9la8ae1EdJQjukXNF9AJOman5GWETdcSxRmWoTLMa8Nn9XsFwzs8tFCmbRzyNjmykiss.\"\n",
        "a, b, c, d = 51, 62, 153, 158\n",
        "\n",
        "first_part = s[a:b+1]\n",
        "second_part = s[c:d+1]\n",
        "\n",
        "print(first_part, second_part)\n",
        "\n",
        "\n"
      ],
      "metadata": {
        "id": "LI88f5RZh4GL",
        "colab": {
          "base_uri": "https://localhost:8080/"
        },
        "outputId": "ddf0c3c6-9645-4a84-d7d5-3e9debc8c403"
      },
      "execution_count": 26,
      "outputs": [
        {
          "output_type": "stream",
          "name": "stdout",
          "text": [
            "Tylototriton mykiss\n"
          ]
        }
      ]
    },
    {
      "cell_type": "markdown",
      "source": [
        "####**<font color=crimson>TASK 8.4 Commit to GitHub**</font>*italicized text*"
      ],
      "metadata": {
        "id": "Tw6Pwh6TjwJ9"
      }
    },
    {
      "cell_type": "markdown",
      "source": [
        "# **<font color=blue>P9. </font>** ```if``` and ```else``` - conditional output"
      ],
      "metadata": {
        "id": "iHFNxm30lzic"
      }
    },
    {
      "cell_type": "markdown",
      "source": [
        "####**TASK P9.1** Create some code that subtracts two numbers if they are different or adds them if they are the same."
      ],
      "metadata": {
        "id": "WCXnGdftztbN"
      }
    },
    {
      "cell_type": "code",
      "source": [
        "a=5\n",
        "b=5\n",
        "\n",
        "if a!=b:\n",
        "  print(a-b)\n",
        "\n",
        "else:\n",
        "  print(a+b)"
      ],
      "metadata": {
        "id": "KabZsL5Fy8jJ",
        "colab": {
          "base_uri": "https://localhost:8080/"
        },
        "outputId": "bce44aa5-0036-4da6-9979-c604da36786d"
      },
      "execution_count": 27,
      "outputs": [
        {
          "output_type": "stream",
          "name": "stdout",
          "text": [
            "10\n"
          ]
        }
      ]
    },
    {
      "cell_type": "markdown",
      "source": [
        "# **<font color=blue>P10.</font>** ```while``` loops"
      ],
      "metadata": {
        "id": "sOgq54Op4MZL"
      }
    },
    {
      "cell_type": "markdown",
      "source": [
        "####**TASK P10.1** Create a while loop that runs 3 times\n"
      ],
      "metadata": {
        "id": "JMqGqhTn4l9s"
      }
    },
    {
      "cell_type": "code",
      "source": [
        "#initiate a counter\n",
        "a = 1\n",
        "\n",
        "#print \"Counting!\" while a<=3\n",
        "while a <= 3:\n",
        "\n",
        "    print (\"Counting!\" * a)\n",
        "    a += 1"
      ],
      "metadata": {
        "id": "07YbiCGO4O1w",
        "colab": {
          "base_uri": "https://localhost:8080/"
        },
        "outputId": "80cc5a8b-713b-496e-e2de-1147c5e7f7fd"
      },
      "execution_count": 29,
      "outputs": [
        {
          "output_type": "stream",
          "name": "stdout",
          "text": [
            "Counting!\n",
            "Counting!Counting!\n",
            "Counting!Counting!Counting!\n"
          ]
        }
      ]
    },
    {
      "cell_type": "markdown",
      "source": [
        "# **<font color=blue>P11.</font>** ```for``` loops – looping over lists"
      ],
      "metadata": {
        "id": "R5_dYi9f6t1z"
      }
    },
    {
      "cell_type": "markdown",
      "source": [
        "####**TASK P11.1** Create a for loop to print each item in a list\n"
      ],
      "metadata": {
        "id": "x9F7v_V073wO"
      }
    },
    {
      "cell_type": "code",
      "source": [
        "names = [\"Alice\",\"Bob\",\"Charley\"]\n",
        "\n",
        "for name in names:\n",
        "    print (\"Hello\", name)"
      ],
      "metadata": {
        "id": "-aqaQ5hz70yo",
        "colab": {
          "base_uri": "https://localhost:8080/"
        },
        "outputId": "636d5417-9ebb-40cd-ee20-80c9079e3578"
      },
      "execution_count": 30,
      "outputs": [
        {
          "output_type": "stream",
          "name": "stdout",
          "text": [
            "Hello Alice\n",
            "Hello Bob\n",
            "Hello Charley\n"
          ]
        }
      ]
    },
    {
      "cell_type": "markdown",
      "source": [
        "# **<font color=blue>P12.</font>** ```for``` loops over a ```range()```of numbers"
      ],
      "metadata": {
        "id": "LdtXZ0LW9ugo"
      }
    },
    {
      "cell_type": "markdown",
      "source": [
        "####**TASK 12.1** Using for and range(), create code that prints the numbers 0-9"
      ],
      "metadata": {
        "id": "jG6jvXEBDi4H"
      }
    },
    {
      "cell_type": "code",
      "source": [
        "# Create a variable to define the  number of iterations\n",
        "iterations = 10\n",
        "\n",
        "#Print the current item's value each time through the loop\n",
        "for number in range(iterations):\n",
        "    print (number)"
      ],
      "metadata": {
        "colab": {
          "base_uri": "https://localhost:8080/"
        },
        "id": "RFBXqQNu_E6X",
        "outputId": "41b84144-eef9-4ff6-ec89-7d48f57f9065"
      },
      "execution_count": 31,
      "outputs": [
        {
          "output_type": "stream",
          "name": "stdout",
          "text": [
            "0\n",
            "1\n",
            "2\n",
            "3\n",
            "4\n",
            "5\n",
            "6\n",
            "7\n",
            "8\n",
            "9\n"
          ]
        }
      ]
    },
    {
      "cell_type": "markdown",
      "source": [
        "####**TASK 12.2** Modify the code so that it only prints every 3rd number from 9 through 27 (i.e. including 27)"
      ],
      "metadata": {
        "id": "NRd5srR_G-PQ"
      }
    },
    {
      "cell_type": "code",
      "source": [
        "# Create a variable to define the number of iterations\n",
        "start = 9\n",
        "end = 27\n",
        "step = 3\n",
        "\n",
        "# Print every 3rd number from 9 through 27 (inclusive)\n",
        "for number in range(start, end + 1, step):\n",
        "    print(number)\n"
      ],
      "metadata": {
        "id": "irYTFPO-IRHo",
        "colab": {
          "base_uri": "https://localhost:8080/"
        },
        "outputId": "783dfa34-3c22-4d40-9a88-04dd968fff26"
      },
      "execution_count": 32,
      "outputs": [
        {
          "output_type": "stream",
          "name": "stdout",
          "text": [
            "9\n",
            "12\n",
            "15\n",
            "18\n",
            "21\n",
            "24\n",
            "27\n"
          ]
        }
      ]
    },
    {
      "cell_type": "markdown",
      "source": [
        "####**TASK 12.3** <font color = orange> **Complete Rosalind Problem #3 Conditions and Loops** </font>"
      ],
      "metadata": {
        "id": "83jDEjpMHXUa"
      }
    },
    {
      "cell_type": "code",
      "source": [
        "# Enter code for Rosalind 3 here:\n",
        "\n",
        "a = 4466\n",
        "b = 9015\n",
        "\n",
        "odd_sum = sum(i for i in range(a, b + 1) if i % 2 == 1)\n",
        "print(odd_sum)\n",
        "\n"
      ],
      "metadata": {
        "id": "EI7hRtakG90R",
        "colab": {
          "base_uri": "https://localhost:8080/"
        },
        "outputId": "92f03b61-95f2-4a1c-cc5d-ed82fab6b2c5"
      },
      "execution_count": 33,
      "outputs": [
        {
          "output_type": "stream",
          "name": "stdout",
          "text": [
            "15335775\n"
          ]
        }
      ]
    },
    {
      "cell_type": "markdown",
      "source": [
        "####**<font color=crimson>TASK 12.4 Commit to GitHub**</font>"
      ],
      "metadata": {
        "id": "3P9DKNbPI1wp"
      }
    },
    {
      "cell_type": "markdown",
      "source": [
        "# **<font color=blue>P13.</font>** File I/O – with open(\"filename\", \"mode\") as filehandle:\n"
      ],
      "metadata": {
        "id": "i4Fo-ddSKWwy"
      }
    },
    {
      "cell_type": "markdown",
      "source": [
        "####**TASK P13.1** Use the ```read()``` function to print the <font color = orange>practice dataset from Rosalind #4</font>\n"
      ],
      "metadata": {
        "id": "sgc3wiQmLXcI"
      }
    },
    {
      "cell_type": "code",
      "source": [
        "with open(\"practice.txt\",\"r\") as data:\n",
        "\n",
        "    print(data.read())\n",
        "\n",
        "    #print(data.readline())\n",
        "\n",
        "    #print(data.readlines())"
      ],
      "metadata": {
        "id": "V5nzHsnULA_n",
        "colab": {
          "base_uri": "https://localhost:8080/",
          "height": 211
        },
        "outputId": "d84feb59-386a-4f9b-d1e8-d3a09da7ab66"
      },
      "execution_count": 35,
      "outputs": [
        {
          "output_type": "error",
          "ename": "FileNotFoundError",
          "evalue": "[Errno 2] No such file or directory: 'practice.txt'",
          "traceback": [
            "\u001b[0;31m---------------------------------------------------------------------------\u001b[0m",
            "\u001b[0;31mFileNotFoundError\u001b[0m                         Traceback (most recent call last)",
            "\u001b[0;32m/tmp/ipython-input-2130575041.py\u001b[0m in \u001b[0;36m<cell line: 0>\u001b[0;34m()\u001b[0m\n\u001b[0;32m----> 1\u001b[0;31m \u001b[0;32mwith\u001b[0m \u001b[0mopen\u001b[0m\u001b[0;34m(\u001b[0m\u001b[0;34m\"practice.txt\"\u001b[0m\u001b[0;34m,\u001b[0m\u001b[0;34m\"r\"\u001b[0m\u001b[0;34m)\u001b[0m \u001b[0;32mas\u001b[0m \u001b[0mdata\u001b[0m\u001b[0;34m:\u001b[0m\u001b[0;34m\u001b[0m\u001b[0;34m\u001b[0m\u001b[0m\n\u001b[0m\u001b[1;32m      2\u001b[0m \u001b[0;34m\u001b[0m\u001b[0m\n\u001b[1;32m      3\u001b[0m     \u001b[0mprint\u001b[0m\u001b[0;34m(\u001b[0m\u001b[0mdata\u001b[0m\u001b[0;34m.\u001b[0m\u001b[0mread\u001b[0m\u001b[0;34m(\u001b[0m\u001b[0;34m)\u001b[0m\u001b[0;34m)\u001b[0m\u001b[0;34m\u001b[0m\u001b[0;34m\u001b[0m\u001b[0m\n\u001b[1;32m      4\u001b[0m \u001b[0;34m\u001b[0m\u001b[0m\n\u001b[1;32m      5\u001b[0m     \u001b[0mprint\u001b[0m\u001b[0;34m(\u001b[0m\u001b[0mdata\u001b[0m\u001b[0;34m.\u001b[0m\u001b[0mreadline\u001b[0m\u001b[0;34m(\u001b[0m\u001b[0;34m)\u001b[0m\u001b[0;34m)\u001b[0m\u001b[0;34m\u001b[0m\u001b[0;34m\u001b[0m\u001b[0m\n",
            "\u001b[0;31mFileNotFoundError\u001b[0m: [Errno 2] No such file or directory: 'practice.txt'"
          ]
        }
      ]
    },
    {
      "cell_type": "markdown",
      "source": [
        "####**TASK P13.2** Explore file object functions to read and print practice.txt"
      ],
      "metadata": {
        "id": "GLO6tBYNVzYZ"
      }
    },
    {
      "cell_type": "markdown",
      "source": [
        "#<font color=blue>**P14.**</font> Store the content, close the file, and join ( ) the list"
      ],
      "metadata": {
        "id": "iupO8iI-ZYAe"
      }
    },
    {
      "cell_type": "code",
      "source": [
        "with open(\"practice.txt\",\"r\") as data:\n",
        "\n",
        "  list_of_lines=data.readlines()\n",
        "\n",
        "print (list_of_lines)"
      ],
      "metadata": {
        "id": "8U5w2qOudDyp",
        "colab": {
          "base_uri": "https://localhost:8080/",
          "height": 211
        },
        "outputId": "f92e2c9c-fb06-44f7-d8ab-c7485dcc14fb"
      },
      "execution_count": 36,
      "outputs": [
        {
          "output_type": "error",
          "ename": "FileNotFoundError",
          "evalue": "[Errno 2] No such file or directory: 'practice.txt'",
          "traceback": [
            "\u001b[0;31m---------------------------------------------------------------------------\u001b[0m",
            "\u001b[0;31mFileNotFoundError\u001b[0m                         Traceback (most recent call last)",
            "\u001b[0;32m/tmp/ipython-input-491309688.py\u001b[0m in \u001b[0;36m<cell line: 0>\u001b[0;34m()\u001b[0m\n\u001b[0;32m----> 1\u001b[0;31m \u001b[0;32mwith\u001b[0m \u001b[0mopen\u001b[0m\u001b[0;34m(\u001b[0m\u001b[0;34m\"practice.txt\"\u001b[0m\u001b[0;34m,\u001b[0m\u001b[0;34m\"r\"\u001b[0m\u001b[0;34m)\u001b[0m \u001b[0;32mas\u001b[0m \u001b[0mdata\u001b[0m\u001b[0;34m:\u001b[0m\u001b[0;34m\u001b[0m\u001b[0;34m\u001b[0m\u001b[0m\n\u001b[0m\u001b[1;32m      2\u001b[0m \u001b[0;34m\u001b[0m\u001b[0m\n\u001b[1;32m      3\u001b[0m   \u001b[0mlist_of_lines\u001b[0m\u001b[0;34m=\u001b[0m\u001b[0mdata\u001b[0m\u001b[0;34m.\u001b[0m\u001b[0mreadlines\u001b[0m\u001b[0;34m(\u001b[0m\u001b[0;34m)\u001b[0m\u001b[0;34m\u001b[0m\u001b[0;34m\u001b[0m\u001b[0m\n\u001b[1;32m      4\u001b[0m \u001b[0;34m\u001b[0m\u001b[0m\n\u001b[1;32m      5\u001b[0m \u001b[0mprint\u001b[0m \u001b[0;34m(\u001b[0m\u001b[0mlist_of_lines\u001b[0m\u001b[0;34m)\u001b[0m\u001b[0;34m\u001b[0m\u001b[0;34m\u001b[0m\u001b[0m\n",
            "\u001b[0;31mFileNotFoundError\u001b[0m: [Errno 2] No such file or directory: 'practice.txt'"
          ]
        }
      ]
    },
    {
      "cell_type": "markdown",
      "source": [
        "####**TASK P14.1** Read practice.txt into a list of lines. Then, after the file is closed, use the join ( ) function to print the contents so it looks like the original input."
      ],
      "metadata": {
        "id": "5pPhGmQYiiKx"
      }
    },
    {
      "cell_type": "code",
      "source": [
        "print (\"_\".join())"
      ],
      "metadata": {
        "id": "XLvFZ9uSeyYH",
        "colab": {
          "base_uri": "https://localhost:8080/",
          "height": 141
        },
        "outputId": "91fb52eb-0338-49ae-9df7-2d601faf0155"
      },
      "execution_count": 37,
      "outputs": [
        {
          "output_type": "error",
          "ename": "TypeError",
          "evalue": "str.join() takes exactly one argument (0 given)",
          "traceback": [
            "\u001b[0;31m---------------------------------------------------------------------------\u001b[0m",
            "\u001b[0;31mTypeError\u001b[0m                                 Traceback (most recent call last)",
            "\u001b[0;32m/tmp/ipython-input-1349047648.py\u001b[0m in \u001b[0;36m<cell line: 0>\u001b[0;34m()\u001b[0m\n\u001b[0;32m----> 1\u001b[0;31m \u001b[0mprint\u001b[0m \u001b[0;34m(\u001b[0m\u001b[0;34m\"_\"\u001b[0m\u001b[0;34m.\u001b[0m\u001b[0mjoin\u001b[0m\u001b[0;34m(\u001b[0m\u001b[0;34m)\u001b[0m\u001b[0;34m)\u001b[0m\u001b[0;34m\u001b[0m\u001b[0;34m\u001b[0m\u001b[0m\n\u001b[0m",
            "\u001b[0;31mTypeError\u001b[0m: str.join() takes exactly one argument (0 given)"
          ]
        }
      ]
    },
    {
      "cell_type": "markdown",
      "source": [
        "#<font color=blue>**P15.**</font> Combining for loops with file objects"
      ],
      "metadata": {
        "id": "lY924yM0jckW"
      }
    },
    {
      "cell_type": "markdown",
      "source": [
        "####**TASK P15.1** Use a for loop to print each line in practice.txt"
      ],
      "metadata": {
        "id": "NvqGEl4JjpiO"
      }
    },
    {
      "cell_type": "code",
      "source": [
        "with open(\"practice.txt\",\"r\") as data:\n",
        "\n",
        "  for line in data:\n",
        "    print (line)"
      ],
      "metadata": {
        "id": "snY-10pUkMby"
      },
      "execution_count": null,
      "outputs": []
    },
    {
      "cell_type": "markdown",
      "source": [
        "####**TASK P15.2** <font color=orange>**Complete Rosalind Problem #4 Working with Files**</font>\n"
      ],
      "metadata": {
        "id": "DHzE7CI4lWGw"
      }
    },
    {
      "cell_type": "code",
      "source": [
        "with open(\"rosalind_ini5 (1).txt\", \"r\") as infile, open(\"output.txt\", \"w\") as outfile:\n",
        "    for idx, line in enumerate(infile, start=1):\n",
        "        if idx % 2 == 0:\n",
        "            outfile.write(line)\n"
      ],
      "metadata": {
        "id": "8QR9dRFtltBN"
      },
      "execution_count": 40,
      "outputs": []
    },
    {
      "cell_type": "markdown",
      "source": [
        "####**<font color=crimson>TASK 15.4 Commit to GitHub**</font>"
      ],
      "metadata": {
        "id": "GJ_acW4WlwDn"
      }
    },
    {
      "cell_type": "markdown",
      "source": [
        "#<font color=blue>**P16.**</font> ```for word in line.split()``` – looping over strings and splitting by any delimiter"
      ],
      "metadata": {
        "id": "WD5wnvQkmh6E"
      }
    },
    {
      "cell_type": "markdown",
      "source": [
        "####**TASK P16.1** Print each word in the ROSALIND Problem #5 Sample Dataset on a separate line.\n"
      ],
      "metadata": {
        "id": "kApNvgOLn8lp"
      }
    },
    {
      "cell_type": "code",
      "source": [
        "with open(\"practice_5.txt\",\"r\") as data:\n",
        "\n",
        "  line=data.read()\n",
        "\n",
        "for word in line.split():\n",
        "    print (word)"
      ],
      "metadata": {
        "colab": {
          "base_uri": "https://localhost:8080/",
          "height": 211
        },
        "id": "PBjyhwclpKoM",
        "outputId": "f6f663a7-bb3a-4136-b2dc-021a72e9ca00"
      },
      "execution_count": 39,
      "outputs": [
        {
          "output_type": "error",
          "ename": "FileNotFoundError",
          "evalue": "[Errno 2] No such file or directory: 'practice_5.txt'",
          "traceback": [
            "\u001b[0;31m---------------------------------------------------------------------------\u001b[0m",
            "\u001b[0;31mFileNotFoundError\u001b[0m                         Traceback (most recent call last)",
            "\u001b[0;32m/tmp/ipython-input-1685005624.py\u001b[0m in \u001b[0;36m<cell line: 0>\u001b[0;34m()\u001b[0m\n\u001b[0;32m----> 1\u001b[0;31m \u001b[0;32mwith\u001b[0m \u001b[0mopen\u001b[0m\u001b[0;34m(\u001b[0m\u001b[0;34m\"practice_5.txt\"\u001b[0m\u001b[0;34m,\u001b[0m\u001b[0;34m\"r\"\u001b[0m\u001b[0;34m)\u001b[0m \u001b[0;32mas\u001b[0m \u001b[0mdata\u001b[0m\u001b[0;34m:\u001b[0m\u001b[0;34m\u001b[0m\u001b[0;34m\u001b[0m\u001b[0m\n\u001b[0m\u001b[1;32m      2\u001b[0m \u001b[0;34m\u001b[0m\u001b[0m\n\u001b[1;32m      3\u001b[0m   \u001b[0mline\u001b[0m\u001b[0;34m=\u001b[0m\u001b[0mdata\u001b[0m\u001b[0;34m.\u001b[0m\u001b[0mread\u001b[0m\u001b[0;34m(\u001b[0m\u001b[0;34m)\u001b[0m\u001b[0;34m\u001b[0m\u001b[0;34m\u001b[0m\u001b[0m\n\u001b[1;32m      4\u001b[0m \u001b[0;34m\u001b[0m\u001b[0m\n\u001b[1;32m      5\u001b[0m \u001b[0;32mfor\u001b[0m \u001b[0mword\u001b[0m \u001b[0;32min\u001b[0m \u001b[0mline\u001b[0m\u001b[0;34m.\u001b[0m\u001b[0msplit\u001b[0m\u001b[0;34m(\u001b[0m\u001b[0;34m)\u001b[0m\u001b[0;34m:\u001b[0m\u001b[0;34m\u001b[0m\u001b[0;34m\u001b[0m\u001b[0m\n",
            "\u001b[0;31mFileNotFoundError\u001b[0m: [Errno 2] No such file or directory: 'practice_5.txt'"
          ]
        }
      ]
    },
    {
      "cell_type": "markdown",
      "source": [
        "#<font color=blue>**P17.**</font> Python Dictionaries { }"
      ],
      "metadata": {
        "id": "kq9QbEttnA4h"
      }
    },
    {
      "cell_type": "markdown",
      "source": [
        "####**TASK 17.1** Create and print your first dictionary"
      ],
      "metadata": {
        "id": "lVudFQkZqJgh"
      }
    },
    {
      "cell_type": "code",
      "source": [
        "sequences = {\n",
        "    \"H.neandertalensis\":\"ACGTCGCTCTGCTA\",\n",
        "    \"H.sapiens\":\"ACGTCACTCTGCTA\"\n",
        "    }\n",
        "\n",
        "print (sequences)"
      ],
      "metadata": {
        "colab": {
          "base_uri": "https://localhost:8080/"
        },
        "id": "IzKFWDlgq6zo",
        "outputId": "4c5e4a71-ce16-4e2f-c66d-99b11ea8ceaa"
      },
      "execution_count": 41,
      "outputs": [
        {
          "output_type": "stream",
          "name": "stdout",
          "text": [
            "{'H.neandertalensis': 'ACGTCGCTCTGCTA', 'H.sapiens': 'ACGTCACTCTGCTA'}\n"
          ]
        }
      ]
    },
    {
      "cell_type": "markdown",
      "source": [
        "#<font color=blue>**P18.**</font> Manipulating and printing dictionaries"
      ],
      "metadata": {
        "id": "OvqoT6UwnK0g"
      }
    },
    {
      "cell_type": "markdown",
      "source": [
        "####**TASK 18.1** Modify line 8 to create a fasta file of the hominid sequences"
      ],
      "metadata": {
        "id": "5Be2tcQRrjso"
      }
    },
    {
      "cell_type": "code",
      "source": [
        "sequences[\"P.troglodytes\"]=\"ACGTCACTCTCCTA\"\n",
        "\n",
        "sequences.update({\"G.gorilla\":\"ACGTCCTCCTA\", \"H.erectus\":\"ACGTCACTCTGCTA\"})\n",
        "\n",
        "print (sequences[\"H.sapiens\"])\n",
        "\n",
        "for key,value in sequences.items():\n",
        "     print (key,value)"
      ],
      "metadata": {
        "colab": {
          "base_uri": "https://localhost:8080/"
        },
        "id": "b-2XDof4rtP8",
        "outputId": "21d92f0a-fe66-46b3-859d-73a40db25d5c"
      },
      "execution_count": 42,
      "outputs": [
        {
          "output_type": "stream",
          "name": "stdout",
          "text": [
            "ACGTCACTCTGCTA\n",
            "H.neandertalensis ACGTCGCTCTGCTA\n",
            "H.sapiens ACGTCACTCTGCTA\n",
            "P.troglodytes ACGTCACTCTCCTA\n",
            "G.gorilla ACGTCCTCCTA\n",
            "H.erectus ACGTCACTCTGCTA\n"
          ]
        }
      ]
    },
    {
      "cell_type": "markdown",
      "source": [
        "####**TASK P18.2** <font color= orange>**Complete Rosalind Problem #5  Dictionaries**</font>"
      ],
      "metadata": {
        "id": "Y98OZYUNvmWD"
      }
    },
    {
      "cell_type": "code",
      "source": [
        "s = \"\"\"When I find myself in times of trouble Mother Mary comes to me Speaking words of wisdom let it be And in my hour of darkness she is standing right in front of me Speaking words of wisdom let it be Let it be let it be let it be let it be Whisper words of wisdom let it be And when the broken hearted people living in the world agree There will be an answer let it be For though they may be parted there is still a chance that they will see There will be an answer let it be Let it be let it be let it be let it be There will be an answer let it be Let it be let it be let it be let it be Whisper words of wisdom let it be Let it be let it be let it be let it be Whisper words of wisdom let it be And when the night is cloudy there is still a light that shines on me Shine until tomorrow let it be I wake up to the sound of music Mother Mary comes to me Speaking words of wisdom let it be Let it be let it be let it be yeah let it be There will be an answer let it be Let it be let it be let it be yeah let it be Whisper words of wisdom let it be\n",
        "\"\"\"\n",
        "\n",
        "words = s.split()\n",
        "\n",
        "counts = {}\n",
        "for word in words:\n",
        "    counts[word] = counts.get(word, 0) + 1\n",
        "\n",
        "for word, count in counts.items():\n",
        "    print(word, count)"
      ],
      "metadata": {
        "id": "lD3KoTY9wWa7",
        "colab": {
          "base_uri": "https://localhost:8080/"
        },
        "outputId": "f196274b-4856-40bc-e539-9f9cd40fc004"
      },
      "execution_count": 43,
      "outputs": [
        {
          "output_type": "stream",
          "name": "stdout",
          "text": [
            "When 1\n",
            "I 2\n",
            "find 1\n",
            "myself 1\n",
            "in 4\n",
            "times 1\n",
            "of 11\n",
            "trouble 1\n",
            "Mother 2\n",
            "Mary 2\n",
            "comes 2\n",
            "to 3\n",
            "me 4\n",
            "Speaking 3\n",
            "words 7\n",
            "wisdom 7\n",
            "let 30\n",
            "it 36\n",
            "be 41\n",
            "And 3\n",
            "my 1\n",
            "hour 1\n",
            "darkness 1\n",
            "she 1\n",
            "is 4\n",
            "standing 1\n",
            "right 1\n",
            "front 1\n",
            "Let 6\n",
            "Whisper 4\n",
            "when 2\n",
            "the 4\n",
            "broken 1\n",
            "hearted 1\n",
            "people 1\n",
            "living 1\n",
            "world 1\n",
            "agree 1\n",
            "There 4\n",
            "will 5\n",
            "an 4\n",
            "answer 4\n",
            "For 1\n",
            "though 1\n",
            "they 2\n",
            "may 1\n",
            "parted 1\n",
            "there 2\n",
            "still 2\n",
            "a 2\n",
            "chance 1\n",
            "that 2\n",
            "see 1\n",
            "night 1\n",
            "cloudy 1\n",
            "light 1\n",
            "shines 1\n",
            "on 1\n",
            "Shine 1\n",
            "until 1\n",
            "tomorrow 1\n",
            "wake 1\n",
            "up 1\n",
            "sound 1\n",
            "music 1\n",
            "yeah 2\n"
          ]
        }
      ]
    },
    {
      "cell_type": "markdown",
      "source": [
        "####**<font color=crimson>TASK 18.3 Commit to GitHub**</font>"
      ],
      "metadata": {
        "id": "1dJdfy4bwVO4"
      }
    },
    {
      "cell_type": "markdown",
      "source": [
        "#<font color=blue>**P19.**</font> ```count()``` – counting things made easy"
      ],
      "metadata": {
        "id": "28ygQlYJnZoA"
      }
    },
    {
      "cell_type": "markdown",
      "source": [
        "####**TASK P19.1** <font color= orange>**Complete Rosalind Problem #6  Counting DNA Nucleotides**</font>"
      ],
      "metadata": {
        "id": "CZ9tBWDmw4D-"
      }
    },
    {
      "cell_type": "code",
      "source": [
        "s = \"GAACCTTCTCGGAACGTATGTTTTAAACCTTTTCGTCATTCACACACACCGTTACCCACCACCAAAACTTTTAGCCGCAGGCAGAGGCGCCCTATTCTAGGCGTCGATGTTCAACGCCCAGCGTGGCCCAGAATCTGAATGCAACATCTTTGTACCCGCGTGTAGGGCGGTTTTTTTCCAGATATGAAGTCGAACGCTTCTACCGATGTCGGACGCTGCTGCCTGGTATTGATTATGTTAAGTAGAATTACCAAGTGCACCCTTAACACACTTCGCTAATACCCTCCCTCAAGCCACGGCGCGAAAACCGTTTCAGCTTGGACGATAGAGAGGGTTTGTAAGACTGATTACCGTGAAGGGGAAGCTAAAAACTCATGTGCATGGTGGTACCGGCCCGTTGGGCCACCTCTCTGAATTGGAAGAACCGAAGTATAAAATTGCTCCCGTTGATCTCGGCATTCACGCCTCTCCGGGGGGGTGTCTGCCTTGAGGCGTGCAGGTTATGTTGTAGGATGCTGGTCTCACATCGTGTCATCATGCCAGTTGCTCTGCTATTATAAAAGTCGCAGCTGGTTCGCACCGCACTCTAAACCGAGGCCTTACGAACGGAACGTTGGAAAGGGCACAGTACTAAATTTGTCATTCGTGAGGGTGATCGTACATTGGTCGCTCGTGGTAGCCCAATCTAAAGGAGATAGCGAAGCCTTGTGATCATCGTATGCATGTTTTGTACGTCGATTGGCGCATAGTAGGACCCGTGAAACAGAATCGTTCCTGTAATCCTAGATCGAAACTTTCGGAGCGTCAAGTGTCATCGACGGACGTTAAGTTCAGCTGCACCTCCCGACGTAATCACCGATCGTACTATAAACGTGGAGTTCTCCATTTCACGCTCGTTATGTGGGTGGCATGAAAGTGGTTTTGTGCAACCTATTACACTGCCTTTCCGCGTTAGAAACTATGGGTTTCAGTGAACCCCACGTGTAGAGTGTATAG\"\n",
        "\n",
        "# Count occurrences of each nucleotide\n",
        "count_A = s.count('A')\n",
        "count_C = s.count('C')\n",
        "count_G = s.count('G')\n",
        "count_T = s.count('T')\n",
        "\n",
        "# Print the counts separated by spaces\n",
        "print(count_A, count_C, count_G, count_T)\n"
      ],
      "metadata": {
        "id": "GlwS14zGxBIC",
        "colab": {
          "base_uri": "https://localhost:8080/"
        },
        "outputId": "8902d851-93a0-41db-c0d0-b3893af0bab0"
      },
      "execution_count": 44,
      "outputs": [
        {
          "output_type": "stream",
          "name": "stdout",
          "text": [
            "238 244 248 266\n"
          ]
        }
      ]
    },
    {
      "cell_type": "markdown",
      "source": [
        "####**TASK P19.2** Modify your code for the Rosalind #5 Dictionary problem so that it uses count( ) to count the words."
      ],
      "metadata": {
        "id": "rj-OWB6Jym5y"
      }
    },
    {
      "cell_type": "code",
      "source": [
        "s = \"GAACCTTCTCGGAACGTATGTTTTAAACCTTTTCGTCATTCACACACACCGTTACCCACCACCAAAACTTTTAGCCGCAGGCAGAGGCGCCCTATTCTAGGCGTCGATGTTCAACGCCCAGCGTGGCCCAGAATCTGAATGCAACATCTTTGTACCCGCGTGTAGGGCGGTTTTTTTCCAGATATGAAGTCGAACGCTTCTACCGATGTCGGACGCTGCTGCCTGGTATTGATTATGTTAAGTAGAATTACCAAGTGCACCCTTAACACACTTCGCTAATACCCTCCCTCAAGCCACGGCGCGAAAACCGTTTCAGCTTGGACGATAGAGAGGGTTTGTAAGACTGATTACCGTGAAGGGGAAGCTAAAAACTCATGTGCATGGTGGTACCGGCCCGTTGGGCCACCTCTCTGAATTGGAAGAACCGAAGTATAAAATTGCTCCCGTTGATCTCGGCATTCACGCCTCTCCGGGGGGGTGTCTGCCTTGAGGCGTGCAGGTTATGTTGTAGGATGCTGGTCTCACATCGTGTCATCATGCCAGTTGCTCTGCTATTATAAAAGTCGCAGCTGGTTCGCACCGCACTCTAAACCGAGGCCTTACGAACGGAACGTTGGAAAGGGCACAGTACTAAATTTGTCATTCGTGAGGGTGATCGTACATTGGTCGCTCGTGGTAGCCCAATCTAAAGGAGATAGCGAAGCCTTGTGATCATCGTATGCATGTTTTGTACGTCGATTGGCGCATAGTAGGACCCGTGAAACAGAATCGTTCCTGTAATCCTAGATCGAAACTTTCGGAGCGTCAAGTGTCATCGACGGACGTTAAGTTCAGCTGCACCTCCCGACGTAATCACCGATCGTACTATAAACGTGGAGTTCTCCATTTCACGCTCGTTATGTGGGTGGCATGAAAGTGGTTTTGTGCAACCTATTACACTGCCTTTCCGCGTTAGAAACTATGGGTTTCAGTGAACCCCACGTGTAGAGTGTATAG\"\n",
        "\n",
        "# List of nucleotides\n",
        "nucleotides = ['A', 'C', 'G', 'T']\n",
        "\n",
        "# Create dictionary using count()\n",
        "counts = {nucleotide: s.count(nucleotide) for nucleotide in nucleotides}\n",
        "\n",
        "# Print values separated by space\n",
        "print(counts['A'], counts['C'], counts['G'], counts['T'])\n"
      ],
      "metadata": {
        "id": "9H_S6jLnzfxR",
        "colab": {
          "base_uri": "https://localhost:8080/"
        },
        "outputId": "102bf8fe-7611-4e37-b6ff-f030c42b1aa8"
      },
      "execution_count": 45,
      "outputs": [
        {
          "output_type": "stream",
          "name": "stdout",
          "text": [
            "238 244 248 266\n"
          ]
        }
      ]
    },
    {
      "cell_type": "markdown",
      "source": [
        "####**<font color=crimson>TASK 19.3 Commit to GitHub**</font>\n"
      ],
      "metadata": {
        "id": "RzMon_wAzg7D"
      }
    },
    {
      "cell_type": "markdown",
      "source": [
        "#<font color=blue>**P20.**</font> Installing biopython"
      ],
      "metadata": {
        "id": "-IB0c2gG0Z1O"
      }
    },
    {
      "cell_type": "code",
      "source": [
        "!pip install biopython"
      ],
      "metadata": {
        "colab": {
          "base_uri": "https://localhost:8080/"
        },
        "id": "pinPQdEn0mJM",
        "outputId": "8a511b7d-40eb-4c35-f158-1a73c7c31ae6"
      },
      "execution_count": 46,
      "outputs": [
        {
          "output_type": "stream",
          "name": "stdout",
          "text": [
            "Collecting biopython\n",
            "  Downloading biopython-1.85-cp312-cp312-manylinux_2_17_x86_64.manylinux2014_x86_64.whl.metadata (13 kB)\n",
            "Requirement already satisfied: numpy in /usr/local/lib/python3.12/dist-packages (from biopython) (2.0.2)\n",
            "Downloading biopython-1.85-cp312-cp312-manylinux_2_17_x86_64.manylinux2014_x86_64.whl (3.3 MB)\n",
            "\u001b[2K   \u001b[90m━━━━━━━━━━━━━━━━━━━━━━━━━━━━━━━━━━━━━━━━\u001b[0m \u001b[32m3.3/3.3 MB\u001b[0m \u001b[31m23.7 MB/s\u001b[0m eta \u001b[36m0:00:00\u001b[0m\n",
            "\u001b[?25hInstalling collected packages: biopython\n",
            "Successfully installed biopython-1.85\n"
          ]
        }
      ]
    },
    {
      "cell_type": "code",
      "metadata": {
        "colab": {
          "base_uri": "https://localhost:8080/"
        },
        "id": "5ccd6f0b",
        "outputId": "94d55be5-49ff-4a72-d008-03b21aebfb6f"
      },
      "source": [
        "try:\n",
        "  from Bio.Seq import Seq\n",
        "  print(\"Biopython is installed correctly.\")\n",
        "except ImportError:\n",
        "  print(\"Biopython is not installed or there was an import error.\")"
      ],
      "execution_count": 47,
      "outputs": [
        {
          "output_type": "stream",
          "name": "stdout",
          "text": [
            "Biopython is installed correctly.\n"
          ]
        }
      ]
    },
    {
      "cell_type": "markdown",
      "source": [
        "#<font color=blue>**P21.**</font> Seq( ) – a function to define sequence objects"
      ],
      "metadata": {
        "id": "IGX-ThdQ3RuA"
      }
    },
    {
      "cell_type": "code",
      "source": [
        "from Bio.Seq import Seq\n",
        "\n",
        "my_sequence = Seq(\"GATGGAACTTGACTACGTAAATT\")"
      ],
      "metadata": {
        "id": "ltZBr8mE4OhM"
      },
      "execution_count": 48,
      "outputs": []
    },
    {
      "cell_type": "markdown",
      "source": [
        "####**TASK BP21.2** <font color=orange> **Complete Rosalind #7 Transcribing DNA into RNA**</font>"
      ],
      "metadata": {
        "id": "UXCuEFxg6Jxx"
      }
    },
    {
      "cell_type": "code",
      "source": [
        "t = \"AACGGGATCCTTCCACTCTTAAGGATCGGGCAAACCATACTGGACACTTCGCAGCCGCAACATGGAGAGGCCTACAAATGGCGTAATGCTGCTTCCAATAGCTTGAGCTTGTGAGTATCGGTAAGAAGGTTAGTCGCAACAACTGGTAGCATCGAGAGAAACATTTCCAGGTTTCGGGAGGGAGTGTGATCGTCCCTGCGGTGAGTAAATAAATGAAGTAATTTTGGGCATTGAGTATGGCGTCTGGCGGCAGCCAATTAATCCGTCTGCTAAAGCTCTACAACACCCGGGGATAGATATGAAGCGCCAAAAACTTACAAAGTCCCGTGAATTAGGCCCTCGGCAGTGGGAGAATCTTTCGCAACGGGGATACTCGAGCCCCGTCCGGGCGAAACTGTCTGCGGGGATGCCTTTTTAACCTTCATTAGCATAGCAGTCCCTTGTATCGTGCCCACCCAGATTTTGCCTACCCAAATGTGAGTAGTAGTCCCAGAAAAGTCCTGGTCATGGGGTTTATCGTGCCCAAGAGGATCTGGACATTTGGAGGTGCGGAAGTCGCGTTCGGTTCTCCGGAGGGCACCCGCCATCTCTGTCTTTCATAGATAGCTTATATTGGATCATTTAAGTGGCATCAGCTCGTCAAACTGAGAGTGGGGGGGGCCCTCCAGCTACACCCTGATGGCCTTCGTTTAGAGGAATTACTTATCCTCGAAGAGCGCTTCAATGGAGCCTTTACCTAAAATAGGGATTACGGTGTATCACGGATTCTTACAGTTCAATGGCAGCTCCCGGCAGACAACACATGGATTTCCCGCCTTAGAAACCCCAACCTTAAATAAGTTCGTTCCCTTGGCGGGCGCAATTTACTAAGCTTTTATGGGCACTCTATGTTAAACCGCGGGAATTGCGGTTGAGCACAAAAATCAGTGCCTCAACGTTGTATGGCTTACGA\"\n",
        "\n",
        "# Replace all 'T' with 'U' to get the RNA string\n",
        "u = t.replace('T', 'U')\n",
        "\n",
        "print(u)\n"
      ],
      "metadata": {
        "id": "UXt6gWLM6qde",
        "colab": {
          "base_uri": "https://localhost:8080/"
        },
        "outputId": "05815580-c718-4260-fbe1-60888f27f3d3"
      },
      "execution_count": 49,
      "outputs": [
        {
          "output_type": "stream",
          "name": "stdout",
          "text": [
            "AACGGGAUCCUUCCACUCUUAAGGAUCGGGCAAACCAUACUGGACACUUCGCAGCCGCAACAUGGAGAGGCCUACAAAUGGCGUAAUGCUGCUUCCAAUAGCUUGAGCUUGUGAGUAUCGGUAAGAAGGUUAGUCGCAACAACUGGUAGCAUCGAGAGAAACAUUUCCAGGUUUCGGGAGGGAGUGUGAUCGUCCCUGCGGUGAGUAAAUAAAUGAAGUAAUUUUGGGCAUUGAGUAUGGCGUCUGGCGGCAGCCAAUUAAUCCGUCUGCUAAAGCUCUACAACACCCGGGGAUAGAUAUGAAGCGCCAAAAACUUACAAAGUCCCGUGAAUUAGGCCCUCGGCAGUGGGAGAAUCUUUCGCAACGGGGAUACUCGAGCCCCGUCCGGGCGAAACUGUCUGCGGGGAUGCCUUUUUAACCUUCAUUAGCAUAGCAGUCCCUUGUAUCGUGCCCACCCAGAUUUUGCCUACCCAAAUGUGAGUAGUAGUCCCAGAAAAGUCCUGGUCAUGGGGUUUAUCGUGCCCAAGAGGAUCUGGACAUUUGGAGGUGCGGAAGUCGCGUUCGGUUCUCCGGAGGGCACCCGCCAUCUCUGUCUUUCAUAGAUAGCUUAUAUUGGAUCAUUUAAGUGGCAUCAGCUCGUCAAACUGAGAGUGGGGGGGGCCCUCCAGCUACACCCUGAUGGCCUUCGUUUAGAGGAAUUACUUAUCCUCGAAGAGCGCUUCAAUGGAGCCUUUACCUAAAAUAGGGAUUACGGUGUAUCACGGAUUCUUACAGUUCAAUGGCAGCUCCCGGCAGACAACACAUGGAUUUCCCGCCUUAGAAACCCCAACCUUAAAUAAGUUCGUUCCCUUGGCGGGCGCAAUUUACUAAGCUUUUAUGGGCACUCUAUGUUAAACCGCGGGAAUUGCGGUUGAGCACAAAAAUCAGUGCCUCAACGUUGUAUGGCUUACGA\n"
          ]
        }
      ]
    },
    {
      "cell_type": "markdown",
      "source": [
        "####**TASK BP21.2** <font color=orange> **Complete Rosalind #8  Translating RNA into Protein**</font>"
      ],
      "metadata": {
        "id": "9P4_MaXp6O3n"
      }
    },
    {
      "cell_type": "code",
      "source": [
        "def translate_rna(rna):\n",
        "    codon_table = {\n",
        "        'UUU':'F', 'UUC':'F', 'UUA':'L', 'UUG':'L',\n",
        "        'CUU':'L', 'CUC':'L', 'CUA':'L', 'CUG':'L',\n",
        "        'AUU':'I', 'AUC':'I', 'AUA':'I', 'AUG':'M',\n",
        "        'GUU':'V', 'GUC':'V', 'GUA':'V', 'GUG':'V',\n",
        "        'UCU':'S', 'UCC':'S', 'UCA':'S', 'UCG':'S',\n",
        "        'AGU':'S', 'AGC':'S',\n",
        "        'CCU':'P', 'CCC':'P', 'CCA':'P', 'CCG':'P',\n",
        "        'ACU':'T', 'ACC':'T', 'ACA':'T', 'ACG':'T',\n",
        "        'GCU':'A', 'GCC':'A', 'GCA':'A', 'GCG':'A',\n",
        "        'UAU':'Y', 'UAC':'Y',\n",
        "        'UAA':'Stop', 'UAG':'Stop', 'UGA':'Stop',\n",
        "        'CAU':'H', 'CAC':'H',\n",
        "        'CAA':'Q', 'CAG':'Q',\n",
        "        'AAU':'N', 'AAC':'N',\n",
        "        'AAA':'K', 'AAG':'K',\n",
        "        'GAU':'D', 'GAC':'D',\n",
        "        'GAA':'E', 'GAG':'E',\n",
        "        'UGU':'C', 'UGC':'C',\n",
        "        'UGG':'W',\n",
        "        'CGU':'R', 'CGC':'R', 'CGA':'R', 'CGG':'R',\n",
        "        'AGA':'R', 'AGG':'R',\n",
        "        'GGU':'G', 'GGC':'G', 'GGA':'G', 'GGG':'G'\n",
        "    }\n",
        "\n",
        "    protein = []\n",
        "\n",
        "    # Translate codons until stop or end\n",
        "    for i in range(0, len(rna), 3):\n",
        "        codon = rna[i:i+3]\n",
        "        if len(codon) < 3:\n",
        "            break\n",
        "        amino_acid = codon_table.get(codon, '')\n",
        "        if amino_acid == 'Stop':\n",
        "            break\n",
        "        protein.append(amino_acid)\n",
        "\n",
        "    return ''.join(protein)\n",
        "\n",
        "# Sample input\n",
        "rna = \"AUGCUAGUCAGCAGGCUAUCCGCUCUGGGUAGGUAUUUGCUAACCCUACAGCACCGUAGGUUGCUGUAUUCUCUUUUAAAACGUGUCCCGUCAAGCAUCGAGAGGGAUACUGUGUGUAAUCUCCUUGUCUAUAAGGACAAUCGCCGAACUGAGAUUACACAACCUUCGAAGACAUUGCACGUCCAUAUAUGGAAUAAACGCAUUCCGGACCCAAUCAAGGGUGGCAAUGUCAGCACAAGUCGGUUUCGGUUUCACUCUGUUGUUAUAAUUGGCAAAUCGCUUACGUUGCCACGCGGACACACUAGCUGGCACGCCCUCCCACGUAACCUCACACCAGUAAGGCGACUAAUAAUUGCUGAAUCGGCGCUCGGGUGUGUUCCUUGCACCCGGUUCGGCAAUUUCGUUCGUAAGCUGCUAAGUGUCGCAGUACGAGAUCAUGUUUUUUUAGCCUUUUUUUCGGAAGAGCAAAAGGAGCAAAGACUCCGUUGCACCUGGGAGUCUCCCUUACUUUACGACCUACGCAUACGCUCCCCCGACCCCUGCGACCCGGUGGGAGUUCGCAGGCAUCAUAGAGGUAGCGACAUCGAAUCUAAAGUUCUCUCGGGAAAGUUUGGGAACUGUGAUCACCCACGUUCCGUAGUGCAAUUUCACACAGGUGUAUACAGGAUGCACCGACUUUUACGGGGUGCGCACCUCGACGUCGACUACGGCGCUGUUGCCAUUCCAGCGGUAAGGGAGCUCAAAUAUGAUUACCACCUUAGUUCGAAAACAUCAGACAAAGCCGUACCACAGUCGAGCAUAAACACCCUAUCCUGCUCAUCAUGUAAUGUGCUCUGCACUACCGUUCAAAAUAGAAUUGUUUGGUACACAGUCUCUAACAGAAUGAUCUUUCUAACGCAUGAACGAGCAAAAACCGCCCGUCGUCUAAUAUUUUACCAGGUCACGCGGGAAUACUCUGGUGGGCCCCUCUUUGGCUUCAGAUCCGACUGCAUCAUCCCAGAAAUUGGCCUAUACAGAUCUGCUCAGACAGUGAGUCGAAGCGAUUCUACUGGCUACGAAAUCCUCCGGGUACUCCCAUGUAACGUUAUUGAUGUUUGGUCACGAUUGAGGCUGAUAUUGCACGUUUCUCGUGCGAUGUCUUCAUCUGGAGAUCGCACUACGAGAAUGCUACCGACCUUACGCCCCAAUAAGGAAGUCAUAGACCAAUCUCCCGUGAUUAAUCAUGAAUUACUCCGGCCUAUUAUGCCAGGUGGAUUGAGGAGUUACAUACACGGGGGGGAGAGUGGUACACACACUCCGCUAGAAGGCUACGCAACGGAUGGUUGUGGGCGGGGCUGGAAGCUCGUAACCAGCUUCCCAACCUUAGCCUUGGGCCAGGAGCAGGAAAGCCCCGGGGGUCGACGCGCUAGCAAGCACGGAAAUCACAGCAGCCUCGUACUCGAACGCGGAUCUAUUUGCUCAUCUUACGAUUCCAUUCUUCUACACUCGCUAGCGCGGGUCGGCAACGCCUCAGUCAUAUAUCCAAGGCUGUGCACGCCCCUGCAGUUGAAGCGUUCGUUUAAGUUUCCGGACUUUGAGUUCAUUUUACUCCGAAUCCUCUCUUUUAUGUCCGCUAAUUAUAUAACCCUGAAGAGGUACGGCGCUGGACGUGCGCGGCACCAAAAGUUUCGGAUGAGCUUUUCAGUGUUAGAACUCCUGCAGCACCUCAAUAAUAACAACCCGCAAACCCUCAGAGGAAUCAGGGCGCUAGCGGCAUUCCUAGAGAAUUACCUUAGUGAGUGCUAUUUAAGCCCAAUCCCUAUGUCGACACCCGCCGUAGGUCUCGUGGAUGUGCAGGCUUGGAGAGGCGUUGAGCUAGGGCCGUUUCUAAGUCGACGAGCACGUGUCUCCGGUGCGUCCUACAAGUCAUCAAUGGUCUCUGGUAUUACCCAAAGCGUGUCCUCUUCAUUCUCCGUUCAACCCCCGUCGGUAUGGUUGCGAAUAGUUUACACCGACACCGACUCAUCCGUCGAUUGCUCGCCCUUCGUGGUUGUUCCCUUGGCUCCCACAGAAAAGGCCGGUUGGAUCCGCGGUUGCUGUAACGUAUUAGGACCGAGCAUUAUCAUAAUAGUUGCAAUGCGGCGCGUAUGCAACGCUGUAUUCGGAUCUUGGAGUUGGCGGCCCAAUGCGUUCCUAUACUCUGUUGGGCAAAGACUAAGGGCGCAGCAGAAUACCCGUUUACUACUGAAACCAUUAAAUUGUCACCUGAAGACCCAUAUGUCCGCACAAGCUGUCGCAUUCUUUGAGUGGCAUGCAACUCCAGGCACCAUAAAAUCAUUGCUAGUAAGUCUUCUCGCGUCCCAGUCUGCCUCAAUCCCACGCCUGUUACUCGGGAUUGCUAACGUCGAGCAUGUCGUUGUAUGCCACUCGACAAUUGUUAGACCGCUGUCGAGUGUGUACACGGCCGAGAGUAUACUCGUCCGGCAUGGACAAGAGCCCUGUGUUUCGAGACGUUCAGAGCAUUGGCUUCGCCCGCGAGGGCGGCACGGUUUUCCGCGGCGGGCGACCUGCUUGCUCCGGCUCUGCGUCAAGAACAAUAGUAGUUGGACGGUCGGGUACUUGGCUUUUUGUGACCGAGCCUGCCCUAACGCAGCCAGAGCUUCGGCUACAGGCCUCUGCACCCGCGGGCGGGGCACUCCGCACGCACUGAUCGUCUCCGAGCUGGCUAUGUCGAGUUACUUCGCAUUUAUGUACCGUGAAAAUCCGCCUGCUGCCAUGUCUUUGUCUAUUGAACUCCCAAUACCAACCUCGCCCGAAGGCUAUACCCGUACACUCUAUGACCCCAGUUUGGAAUUGGAACUGACAUCUAAUUCUGAAGUAAAGCACGAUAUCAUGAUGAAUAUUUCAACUCUAAAUGCGCAAAUUACACUGGCACGCGCGUGGUUAUGUAACGGCUGGGGUCUUGAGCGGGGAUUGGCGAUUGGACGAUAUUGUAGAACAGCUCACUUUAAGAGUGAGGGAAUGUUCGGCAGCUCGGACCGAUACGGUGGUGAAAUCGUACCCUACGAGACUGCUCUUGUAGUCCUGCUCAAGCUGACCACGGUGUAUGAGUCGAGAAUGACUCCAAUUUGCAUACGUCGGCCGGCACUCGGAUACACAGAACCUGCUCAGUCUACCGGUGCGCUCGGGCAUGGCCGUCGGAAACCUUGGACAUCUACGAAUGGAAUGUGUGUGCUACCGCCAACUCUUUACCCGCAGAUGAGUCCUGAAUUCGCUUAUACUAUCAGCGUUGCAGUGACGCACCUAGCCUCAGACAGAAGUUUGUCCGACCAGCCCGACGCCGCGUUGAUAAAGCCAAUUUUGUAUCCGGCGUUUUCCGGUGACUGUAUGUUUACUGUGAUGUUCAGGGUCCUUCCUCAACUAGAUAAUUCGCAACUGUGCGUAAAUCUCAGUCCAUCGAGCAAGGCCCGGCCGAGACUAGGGCCCGAAAGAUAUAGAUAUGGGGUUUCUGGUUCCACAUCCCCUUAUCAAAACAUUUACCAAGUACUAUACGCCCUUGCCCUCUGCUGCACGAAUUACAGCAAUUACCCUCGGGAAAAACCCCCAACAAAACCGGUACCAGUGAUACGUUUCGUCCCACUGAUUUCCUCAAACUCCGACGCGGGAUCCUUAUAUGCAAGACCAAUUAUUUGGUGCAAAGGAAUCGAGCGAUUUGGUCCAAAUUGUGUACGAAAGCUACACGUCGUACGGAGCUUACCGUCAUUCGCCGGACAUCCGUUUAUAUAUGCUUAUCGUCGUCUUCGGAAAGCACUGCCUCAACCUUCCCCGUCUAUCGGCAUGAAUCUUCUGUGCCUGAGUACUCAACAAGGGUCUCCCUAUCACUCGCUUCUUGUCCAAAUGGAGAAGGCAUUUAACGCAUCUAUACAAGGGAUUCCAGUUCAUGUUCAUUCGCCGUCAACCAAGUCAGGAUUAACCUCUCCUUGUGCGAGACUUCCUUGCUUUACGCUUACCGUUUUCCGACAUCAGCCAAAGCGACGCAGCGGUAUAAGGAUCGAAAUAUUGCUAUUGAAAUGGUACAGACACAUUCUCAUUACGCCUGACGUGUACGGAUUACAUCAGAAUAUCGUGCCAAGGCAAAAAUUCUUUCCUGCUGUGUUUACGCUAACGGACACGAACAUUGCUCGGAGCGUAAGCUAUAGGGGCGCUGAUCAGCCGGUUUUAAGACCAUACACCAGGAAUCGAACCUCAAGCCGAGCCAAAGGGUCAUAUAAACACAUCUCCAUGUACUUGACGUUCGCUUCAGUUGUCUUGGGCAACCGCAGGCUCCAGAAGCUCCCUUUAUUAUAUUGUCCAAAUAGGUGGAUAGGAAGUAUUAAAUCCGGCAAUGAUCGGUGGUAUGUUAGUGUAGAUGGUGAAACCAGAGUCAUGGACCUCGUCUACGACCCAAUACCGAUCAUACUCCAGCGAAGUAAUCAUCGAUACAUCCACCCAUACUCGCUGGGUACACCAAUCGACAGAAAUCGGUAUCUGUUUCGGAGCGCCUUCAAGCCAAUACAGUCCAUCUCUCGUGAGGGAUGGUAUAAUAUAUCUACCGGUACAAUCCAAUUUUAUGAGCAAUAUAUCGGAACUAAGGAGAGCGUCUUGCUAUCGAUCACAAACGUGUUGGAAGGGCCAGGAGUCGCACGAGACGUGGGCAUGGCUAGGGUUCGACUCCGAGCGUCCGUGCGCUUGUGUAUCUCUUUACACCCAGGAUCAAACAAGAUCCACGCUUAUAACGCUUCAAACUACUCUGGUGCGUAUGAUCCUAUUCAUGGCGACAUCGGGAUCGUGUGGCACCUACACCCCGGCCUUUACAGCAAAUACUCCGCGAGUUACGUGGAAAAGUAUACUCCGGUGAAGAUUGUGAUUUUCAAAAGGAUUAUUCCUGAUAAUGCCCCUAGGAAAGUUGCGGAAUGUAGGCGGCCCUGUAUGCUUUUCCCACAUGGAGGACAGCUAACAAGAGUUUCCAACUCAAGUAAAUGCCCCAGCCUGGGGGACUCGCGAGACUCACCGUCUCUCUGCAAAGCUUGGCAUGCAUCAAUAAAGUGGUUCCGGAAAGUGAUUCGGAUCCUUGACAUGUAUAAUACUGAGAUAGCACUGGGCAGACUUCAUUGUGAACACGCUGCAGGCGCACCAUGGUUGGCUGGAAGCCUCUUGGCUCGUUACUUCCAUAGAAGUACAGAGAGGCGAUUCGUACAUUAUACCGCGCUGGUUCGAGGGACAGAGAUGUAUUCAGUCAGUCCUCAGAUAAGUCCUUUCGACCGCGGGGACAGAUUAGGGCAUCCUCGCCUUGAGACUUUCGCUCCGUCUGCUGUGGGCAAAUUAAGGUACUCCUUACUACCUCUCAGCUUUGUCAACUUAGAUAAGCAAGCCGUAGUCACAGAGUUUUCAAUAGGAUCCGUAUCCGUCUUGAUGGCGUCAUCGGGCACAUCUAAGGCGCGGAUCGAAAAUUUAUUCCCAGCUCGCGCCUUGCUCAGAGUGUGUGAGGACCCCUUUUCACGGUGGUUUUGCAGCUCUCCGACGGACGGCUACAACAAGGAUCACUUGUCAGAACAGUUACAAUUCAGUGCCUCGCGAAAGUUUCAGGUCUCUUAUUUCGUACGUUUCGUGUGGCACUACCUUCCACAGACCCUUCAAGACUUGAUCAGGGAGAUAGCAUACUACUUCACUAUAACCUCGGGAACACCGUUGUUGAUUGUCUUCUUCAUCACGAGGCCAGCCGUCGCCGUGUCAGACUUAAUCUUAUCCCAAGGGGCGACCUUGAAGGGCACUCUAACUAUGAAGACCCAAUCAGCAUUUAGGGUCCCGGACCAGGUUUGUUACCGUGGUGUCACUACUAAGCGUCACCUGCACGGAGGUCCCCCUGCUACCGGAUCGACUGAAACAAACAACCUCGUUUUCAUCCAGAGACGCGGAGGAUCGGCCACACUGCGCUGGUGGAUACAGCCGGUAGAUGUGCCAGCUACAAGUCCCCUACGUCACCAUCCUCAUCCCGACGGUAGGCUCAGAUCACAUUGCAAAGCGCAAGACAACCAACUGCCUGUUUUCUGUAUUUGGGCCUGUCAAUAUGGGCGUACCCGCUCCCCAGACAUGUUUAAUGUAGGUUUGUUAGACCCCCUUAUUUGGGAUCUAAAUAUGCGGCGCCUGAUGGGACCUCAGCCUAAGGCGCCACGUGACAAACCUCUGCGGUCUCGUUUGGGCACGCAACUCAACUGGGACGAUCCACCUUUCGAUUGCAACCUGUUAUGUGACAUUGUCGACGGUCUGCUAGGGAUCUCGGUUUACAGGUCCGUUGGAAACGUUGCCCCGCUUCACCUCCACGCUGCCCUGUGGAAAUUCCGCAGUUACCACCACCGAGAUAGGACUACUCGUAGGAACGUUGACGAGCCUCACUGUCUGGGUCCGGUGAAUUUUAAUGCUUUCGAGAGGGCCAUUCCUACGAACAACGCCGAAUCUUACGGUUGCCGCACGUCUGCGCCUUCCUUUGCGUACAUGGCGCACGCCGAGGGGCUCACGGCGGUGACCCAUAGGCUGACUAACAACAGAUUCCUUAUUUCGGCAAUCCAGAAGCACACAUUAAUUUAUGUUGGUACACUAAGCCCCGCACGCAUUUGCCGCCUAUUAGAGAAAUGGGAUUCUACCACUCUACCCGCCAGGGGGAAUAUCGAAAAUGAUGCUUCUAAUACUGUGGGCCUCAAGCUAGUAACAAUGGAUCCUCGAAGGAAACGCGAGACGUCGUACGUACCGCAGAUAUGUUUUCGUGGGGGACAGUGUCAGCCGUACUACAAUCGACCAGUCCAUUUGGUAUGUGUGUGCGUCGGAUUAUCAUCGAGUUCAGGUGUACCCAGGUCAUCUGGGGCAACGAAUUCAUGCCCAGACAAGGCAAGAUUCGCGUUAAAAGGGACUAGGUUAUGUUAUCGAAACCUUGGCAGCGGGGGACGCCGCGCAAUGCAGUUAGCAUGUCCAAUAGGCGGUAGAAUCUUUCGAAGAUCUGCGGAACAUCCGACUCAGGUACUGACUCCUUGCGGAGCGGAGGUUCCCCAAGAUACCGACGAAACGCUGUACUUGUCACGCUCCCGAUCUUGGUGCCACUUCCUGUCUUCUGGGAACAUCAGUACCCUGCACGGUUCCUUCUUAUUCAUUACGUACGCUUUCACUUUCAAUGGGGAGUUACGAGUAUCGCGCAGGACUCCAAGCCGAGAUGACUGUGUACAGCUCCUUCAGCAAACCCUGUGGCACUCGUGCCGACAGGUCGCCACAACGCACGCGUUAAGGGACUGGAGAUUAAAGGUAUGUCAGUCUAAUGCUAGGACGUCAAGCGAAGCGUACAAGACAUUAGGCCCGAGAGGGAAUUUGCGGCGGUUGCAGGGAAAGCUCUCCAGCACUUUGGGGUUUCCAGAUUCUACGGGUGUGGGAUACGGAGCAAUAUACAUAUGGGACGAUCAGGAGAGUACGGCGUAUUUAGUCAUGCGGGUCUUCCCCUGGAAUGCUGUAUGUUUGUUCUGCUAUCGCACGCCGGCCAAGACCUUGUGCGAACGUGUUUGGGAAUCGGGUCGUAGGGCUUCUCUCGUAUUACCUCACCUACUAAUACAUCAGCAACACUGUACCGUUCGUAAGGAUUUUUCGGUCGCUUUGCAGCUAGAGGGCCCAUACUAUACUGCAGUCGGAGUGAUCGGUCAGCGUAGACGUGUUCUGCAAAGUUAUGGUCUAGUUGCUGGUCCUUUGACACGUGUGCAAAGCAACGAGUAUGAUCUUCGAGGAAGGGCGCGCAUAUUAAACCGACCCCGGUACUGCACUGCCCGUGGCAGAUCAAAGUCGGUACAGAGAACGUGGAGACGAAUUGUUCUGGGAUGCUCUAGCGGGCCGCUGGGCUUGCGUCACCCGACUAGCGUGCAACCGAUAUGCGGAGCGGCCGGUAGAAAUGCAAUUCGUAACAUGAGCUCUAAUAAUGUUGUGGGCUUCGGUCCGCACAUACCUGGCAUUGGGGGCACAGCUUUACAAAUUCGACAUCAGCUCCAUCAUUAUGGUAUGCUACCAAAGUGUAAAAAUGCACUCGGCGAAGAUAGCUUUCCAAUAGAGAAUUGCGGUGUACCUAACCUUCAUGGAGGACCCUUGAUUUUGAAUAUACAUGCGACAAGCCCCCCAGGCAAGCCGGGGGGGCGCGGGCGCUAUGCUUUACCGUUCUGUGAGAAUCACGCCUCGAAUGUAGCAAUGCGGACACCGCCAUGCGAGAUUAUGCUGAAGUGCUUCCUGACGCCCGACAUAGCUUGUGUCUUGCAGCCUUCUAAGGAGCCGCGAUGUGAUGGCCUGAAGGGGACCGCCCCUCCAUUGUCGUAUACGACAAUCAGGCAAUUGAUAAUACGAGUACCCAUACUCACCCCGAAUUUGGCUACUUCUUAUGAUCAAUUACUGACUGUGUCUUAUCUGCCACAUCAUGCUCAUGGAGCGCUAUGUUUUCAACGCGACUCGACGGCCAUCACUGGCGGCUUGUCGCCAACGUAA\"\n",
        "\n",
        "# Print protein string\n",
        "print(translate_rna(rna))"
      ],
      "metadata": {
        "id": "5Rzzfzij6q2P",
        "colab": {
          "base_uri": "https://localhost:8080/"
        },
        "outputId": "da609eba-80fe-490c-eb32-d1819607a559"
      },
      "execution_count": 50,
      "outputs": [
        {
          "output_type": "stream",
          "name": "stdout",
          "text": [
            "MLVSRLSALGRYLLTLQHRRLLYSLLKRVPSSIERDTVCNLLVYKDNRRTEITQPSKTLHVHIWNKRIPDPIKGGNVSTSRFRFHSVVIIGKSLTLPRGHTSWHALPRNLTPVRRLIIAESALGCVPCTRFGNFVRKLLSVAVRDHVFLAFFSEEQKEQRLRCTWESPLLYDLRIRSPDPCDPVGVRRHHRGSDIESKVLSGKFGNCDHPRSVVQFHTGVYRMHRLLRGAHLDVDYGAVAIPAVRELKYDYHLSSKTSDKAVPQSSINTLSCSSCNVLCTTVQNRIVWYTVSNRMIFLTHERAKTARRLIFYQVTREYSGGPLFGFRSDCIIPEIGLYRSAQTVSRSDSTGYEILRVLPCNVIDVWSRLRLILHVSRAMSSSGDRTTRMLPTLRPNKEVIDQSPVINHELLRPIMPGGLRSYIHGGESGTHTPLEGYATDGCGRGWKLVTSFPTLALGQEQESPGGRRASKHGNHSSLVLERGSICSSYDSILLHSLARVGNASVIYPRLCTPLQLKRSFKFPDFEFILLRILSFMSANYITLKRYGAGRARHQKFRMSFSVLELLQHLNNNNPQTLRGIRALAAFLENYLSECYLSPIPMSTPAVGLVDVQAWRGVELGPFLSRRARVSGASYKSSMVSGITQSVSSSFSVQPPSVWLRIVYTDTDSSVDCSPFVVVPLAPTEKAGWIRGCCNVLGPSIIIIVAMRRVCNAVFGSWSWRPNAFLYSVGQRLRAQQNTRLLLKPLNCHLKTHMSAQAVAFFEWHATPGTIKSLLVSLLASQSASIPRLLLGIANVEHVVVCHSTIVRPLSSVYTAESILVRHGQEPCVSRRSEHWLRPRGRHGFPRRATCLLRLCVKNNSSWTVGYLAFCDRACPNAARASATGLCTRGRGTPHALIVSELAMSSYFAFMYRENPPAAMSLSIELPIPTSPEGYTRTLYDPSLELELTSNSEVKHDIMMNISTLNAQITLARAWLCNGWGLERGLAIGRYCRTAHFKSEGMFGSSDRYGGEIVPYETALVVLLKLTTVYESRMTPICIRRPALGYTEPAQSTGALGHGRRKPWTSTNGMCVLPPTLYPQMSPEFAYTISVAVTHLASDRSLSDQPDAALIKPILYPAFSGDCMFTVMFRVLPQLDNSQLCVNLSPSSKARPRLGPERYRYGVSGSTSPYQNIYQVLYALALCCTNYSNYPREKPPTKPVPVIRFVPLISSNSDAGSLYARPIIWCKGIERFGPNCVRKLHVVRSLPSFAGHPFIYAYRRLRKALPQPSPSIGMNLLCLSTQQGSPYHSLLVQMEKAFNASIQGIPVHVHSPSTKSGLTSPCARLPCFTLTVFRHQPKRRSGIRIEILLLKWYRHILITPDVYGLHQNIVPRQKFFPAVFTLTDTNIARSVSYRGADQPVLRPYTRNRTSSRAKGSYKHISMYLTFASVVLGNRRLQKLPLLYCPNRWIGSIKSGNDRWYVSVDGETRVMDLVYDPIPIILQRSNHRYIHPYSLGTPIDRNRYLFRSAFKPIQSISREGWYNISTGTIQFYEQYIGTKESVLLSITNVLEGPGVARDVGMARVRLRASVRLCISLHPGSNKIHAYNASNYSGAYDPIHGDIGIVWHLHPGLYSKYSASYVEKYTPVKIVIFKRIIPDNAPRKVAECRRPCMLFPHGGQLTRVSNSSKCPSLGDSRDSPSLCKAWHASIKWFRKVIRILDMYNTEIALGRLHCEHAAGAPWLAGSLLARYFHRSTERRFVHYTALVRGTEMYSVSPQISPFDRGDRLGHPRLETFAPSAVGKLRYSLLPLSFVNLDKQAVVTEFSIGSVSVLMASSGTSKARIENLFPARALLRVCEDPFSRWFCSSPTDGYNKDHLSEQLQFSASRKFQVSYFVRFVWHYLPQTLQDLIREIAYYFTITSGTPLLIVFFITRPAVAVSDLILSQGATLKGTLTMKTQSAFRVPDQVCYRGVTTKRHLHGGPPATGSTETNNLVFIQRRGGSATLRWWIQPVDVPATSPLRHHPHPDGRLRSHCKAQDNQLPVFCIWACQYGRTRSPDMFNVGLLDPLIWDLNMRRLMGPQPKAPRDKPLRSRLGTQLNWDDPPFDCNLLCDIVDGLLGISVYRSVGNVAPLHLHAALWKFRSYHHRDRTTRRNVDEPHCLGPVNFNAFERAIPTNNAESYGCRTSAPSFAYMAHAEGLTAVTHRLTNNRFLISAIQKHTLIYVGTLSPARICRLLEKWDSTTLPARGNIENDASNTVGLKLVTMDPRRKRETSYVPQICFRGGQCQPYYNRPVHLVCVCVGLSSSSGVPRSSGATNSCPDKARFALKGTRLCYRNLGSGGRRAMQLACPIGGRIFRRSAEHPTQVLTPCGAEVPQDTDETLYLSRSRSWCHFLSSGNISTLHGSFLFITYAFTFNGELRVSRRTPSRDDCVQLLQQTLWHSCRQVATTHALRDWRLKVCQSNARTSSEAYKTLGPRGNLRRLQGKLSSTLGFPDSTGVGYGAIYIWDDQESTAYLVMRVFPWNAVCLFCYRTPAKTLCERVWESGRRASLVLPHLLIHQQHCTVRKDFSVALQLEGPYYTAVGVIGQRRRVLQSYGLVAGPLTRVQSNEYDLRGRARILNRPRYCTARGRSKSVQRTWRRIVLGCSSGPLGLRHPTSVQPICGAAGRNAIRNMSSNNVVGFGPHIPGIGGTALQIRHQLHHYGMLPKCKNALGEDSFPIENCGVPNLHGGPLILNIHATSPPGKPGGRGRYALPFCENHASNVAMRTPPCEIMLKCFLTPDIACVLQPSKEPRCDGLKGTAPPLSYTTIRQLIIRVPILTPNLATSYDQLLTVSYLPHHAHGALCFQRDSTAITGGLSPT\n"
          ]
        }
      ]
    },
    {
      "cell_type": "markdown",
      "source": [
        "####**<font color=crimson>TASK 21.3 Commit to GitHub**</font>"
      ],
      "metadata": {
        "id": "dvtR4N7L6sZ_"
      }
    },
    {
      "cell_type": "markdown",
      "source": [
        "#<font color=blue>**P22.**</font> SeqIO – a function to parse( ) sequence files"
      ],
      "metadata": {
        "id": "bDJqtRiX3fEG"
      }
    },
    {
      "cell_type": "markdown",
      "source": [
        "####**TASK BP 22.1** Read in the practice dataset from Rosalind #9 and print the id of each sequence in the file."
      ],
      "metadata": {
        "id": "VKyMhLjx7nIo"
      }
    },
    {
      "cell_type": "code",
      "source": [
        "from Bio.SeqIO import parse\n",
        "\n",
        "for seq_record in parse(\"practice_9.txt\", \"fasta\"):\n",
        "    print (seq_record.id)\n",
        "    print (seq_record.seq)\n",
        "    print (len(seq_record.seq))\n",
        "    print (seq_record)"
      ],
      "metadata": {
        "colab": {
          "base_uri": "https://localhost:8080/",
          "height": 356
        },
        "id": "xUi3JEoh7yJ6",
        "outputId": "1c3775d2-d78c-4001-d2fb-e0d11f32f512"
      },
      "execution_count": 51,
      "outputs": [
        {
          "output_type": "error",
          "ename": "FileNotFoundError",
          "evalue": "[Errno 2] No such file or directory: 'practice_9.txt'",
          "traceback": [
            "\u001b[0;31m---------------------------------------------------------------------------\u001b[0m",
            "\u001b[0;31mFileNotFoundError\u001b[0m                         Traceback (most recent call last)",
            "\u001b[0;32m/tmp/ipython-input-1493440793.py\u001b[0m in \u001b[0;36m<cell line: 0>\u001b[0;34m()\u001b[0m\n\u001b[1;32m      1\u001b[0m \u001b[0;32mfrom\u001b[0m \u001b[0mBio\u001b[0m\u001b[0;34m.\u001b[0m\u001b[0mSeqIO\u001b[0m \u001b[0;32mimport\u001b[0m \u001b[0mparse\u001b[0m\u001b[0;34m\u001b[0m\u001b[0;34m\u001b[0m\u001b[0m\n\u001b[1;32m      2\u001b[0m \u001b[0;34m\u001b[0m\u001b[0m\n\u001b[0;32m----> 3\u001b[0;31m \u001b[0;32mfor\u001b[0m \u001b[0mseq_record\u001b[0m \u001b[0;32min\u001b[0m \u001b[0mparse\u001b[0m\u001b[0;34m(\u001b[0m\u001b[0;34m\"practice_9.txt\"\u001b[0m\u001b[0;34m,\u001b[0m \u001b[0;34m\"fasta\"\u001b[0m\u001b[0;34m)\u001b[0m\u001b[0;34m:\u001b[0m\u001b[0;34m\u001b[0m\u001b[0;34m\u001b[0m\u001b[0m\n\u001b[0m\u001b[1;32m      4\u001b[0m     \u001b[0mprint\u001b[0m \u001b[0;34m(\u001b[0m\u001b[0mseq_record\u001b[0m\u001b[0;34m.\u001b[0m\u001b[0mid\u001b[0m\u001b[0;34m)\u001b[0m\u001b[0;34m\u001b[0m\u001b[0;34m\u001b[0m\u001b[0m\n\u001b[1;32m      5\u001b[0m     \u001b[0mprint\u001b[0m \u001b[0;34m(\u001b[0m\u001b[0mseq_record\u001b[0m\u001b[0;34m.\u001b[0m\u001b[0mseq\u001b[0m\u001b[0;34m)\u001b[0m\u001b[0;34m\u001b[0m\u001b[0;34m\u001b[0m\u001b[0m\n",
            "\u001b[0;32m/usr/local/lib/python3.12/dist-packages/Bio/SeqIO/__init__.py\u001b[0m in \u001b[0;36mparse\u001b[0;34m(handle, format, alphabet)\u001b[0m\n\u001b[1;32m    624\u001b[0m     \u001b[0miterator_generator\u001b[0m \u001b[0;34m=\u001b[0m \u001b[0m_FormatToIterator\u001b[0m\u001b[0;34m.\u001b[0m\u001b[0mget\u001b[0m\u001b[0;34m(\u001b[0m\u001b[0mformat\u001b[0m\u001b[0;34m)\u001b[0m\u001b[0;34m\u001b[0m\u001b[0;34m\u001b[0m\u001b[0m\n\u001b[1;32m    625\u001b[0m     \u001b[0;32mif\u001b[0m \u001b[0miterator_generator\u001b[0m\u001b[0;34m:\u001b[0m\u001b[0;34m\u001b[0m\u001b[0;34m\u001b[0m\u001b[0m\n\u001b[0;32m--> 626\u001b[0;31m         \u001b[0;32mreturn\u001b[0m \u001b[0miterator_generator\u001b[0m\u001b[0;34m(\u001b[0m\u001b[0mhandle\u001b[0m\u001b[0;34m)\u001b[0m\u001b[0;34m\u001b[0m\u001b[0;34m\u001b[0m\u001b[0m\n\u001b[0m\u001b[1;32m    627\u001b[0m     \u001b[0;32mif\u001b[0m \u001b[0mformat\u001b[0m \u001b[0;32min\u001b[0m \u001b[0mAlignIO\u001b[0m\u001b[0;34m.\u001b[0m\u001b[0m_FormatToIterator\u001b[0m\u001b[0;34m:\u001b[0m\u001b[0;34m\u001b[0m\u001b[0;34m\u001b[0m\u001b[0m\n\u001b[1;32m    628\u001b[0m         \u001b[0;31m# Use Bio.AlignIO to read in the alignments\u001b[0m\u001b[0;34m\u001b[0m\u001b[0;34m\u001b[0m\u001b[0m\n",
            "\u001b[0;32m/usr/local/lib/python3.12/dist-packages/Bio/SeqIO/FastaIO.py\u001b[0m in \u001b[0;36m__init__\u001b[0;34m(self, source, alphabet)\u001b[0m\n\u001b[1;32m    194\u001b[0m         \u001b[0;32mif\u001b[0m \u001b[0malphabet\u001b[0m \u001b[0;32mis\u001b[0m \u001b[0;32mnot\u001b[0m \u001b[0;32mNone\u001b[0m\u001b[0;34m:\u001b[0m\u001b[0;34m\u001b[0m\u001b[0;34m\u001b[0m\u001b[0m\n\u001b[1;32m    195\u001b[0m             \u001b[0;32mraise\u001b[0m \u001b[0mValueError\u001b[0m\u001b[0;34m(\u001b[0m\u001b[0;34m\"The alphabet argument is no longer supported\"\u001b[0m\u001b[0;34m)\u001b[0m\u001b[0;34m\u001b[0m\u001b[0;34m\u001b[0m\u001b[0m\n\u001b[0;32m--> 196\u001b[0;31m         \u001b[0msuper\u001b[0m\u001b[0;34m(\u001b[0m\u001b[0;34m)\u001b[0m\u001b[0;34m.\u001b[0m\u001b[0m__init__\u001b[0m\u001b[0;34m(\u001b[0m\u001b[0msource\u001b[0m\u001b[0;34m,\u001b[0m \u001b[0mfmt\u001b[0m\u001b[0;34m=\u001b[0m\u001b[0;34m\"Fasta\"\u001b[0m\u001b[0;34m)\u001b[0m\u001b[0;34m\u001b[0m\u001b[0;34m\u001b[0m\u001b[0m\n\u001b[0m\u001b[1;32m    197\u001b[0m         \u001b[0;32mtry\u001b[0m\u001b[0;34m:\u001b[0m\u001b[0;34m\u001b[0m\u001b[0;34m\u001b[0m\u001b[0m\n\u001b[1;32m    198\u001b[0m             \u001b[0mline\u001b[0m \u001b[0;34m=\u001b[0m \u001b[0mnext\u001b[0m\u001b[0;34m(\u001b[0m\u001b[0mself\u001b[0m\u001b[0;34m.\u001b[0m\u001b[0mstream\u001b[0m\u001b[0;34m)\u001b[0m\u001b[0;34m\u001b[0m\u001b[0;34m\u001b[0m\u001b[0m\n",
            "\u001b[0;32m/usr/local/lib/python3.12/dist-packages/Bio/SeqIO/Interfaces.py\u001b[0m in \u001b[0;36m__init__\u001b[0;34m(self, source, alphabet, fmt)\u001b[0m\n\u001b[1;32m     79\u001b[0m         \u001b[0;32mif\u001b[0m \u001b[0misinstance\u001b[0m\u001b[0;34m(\u001b[0m\u001b[0msource\u001b[0m\u001b[0;34m,\u001b[0m \u001b[0m_PathLikeTypes\u001b[0m\u001b[0;34m)\u001b[0m\u001b[0;34m:\u001b[0m\u001b[0;34m\u001b[0m\u001b[0;34m\u001b[0m\u001b[0m\n\u001b[1;32m     80\u001b[0m             \u001b[0mmode\u001b[0m \u001b[0;34m=\u001b[0m \u001b[0mmodes\u001b[0m\u001b[0;34m[\u001b[0m\u001b[0;36m0\u001b[0m\u001b[0;34m]\u001b[0m\u001b[0;34m\u001b[0m\u001b[0;34m\u001b[0m\u001b[0m\n\u001b[0;32m---> 81\u001b[0;31m             \u001b[0mself\u001b[0m\u001b[0;34m.\u001b[0m\u001b[0mstream\u001b[0m \u001b[0;34m=\u001b[0m \u001b[0mopen\u001b[0m\u001b[0;34m(\u001b[0m\u001b[0msource\u001b[0m\u001b[0;34m,\u001b[0m \u001b[0;34m\"r\"\u001b[0m \u001b[0;34m+\u001b[0m \u001b[0mmode\u001b[0m\u001b[0;34m)\u001b[0m\u001b[0;34m\u001b[0m\u001b[0;34m\u001b[0m\u001b[0m\n\u001b[0m\u001b[1;32m     82\u001b[0m         \u001b[0;32melse\u001b[0m\u001b[0;34m:\u001b[0m\u001b[0;34m\u001b[0m\u001b[0;34m\u001b[0m\u001b[0m\n\u001b[1;32m     83\u001b[0m             \u001b[0mvalue\u001b[0m \u001b[0;34m=\u001b[0m \u001b[0msource\u001b[0m\u001b[0;34m.\u001b[0m\u001b[0mread\u001b[0m\u001b[0;34m(\u001b[0m\u001b[0;36m0\u001b[0m\u001b[0;34m)\u001b[0m\u001b[0;34m\u001b[0m\u001b[0;34m\u001b[0m\u001b[0m\n",
            "\u001b[0;31mFileNotFoundError\u001b[0m: [Errno 2] No such file or directory: 'practice_9.txt'"
          ]
        }
      ]
    },
    {
      "cell_type": "markdown",
      "source": [
        "#<font color=blue>**P23.**</font> SeqUtils.gc_fraction( ) – a function to compute GC content"
      ],
      "metadata": {
        "id": "SAjUYBpe3pwi"
      }
    },
    {
      "cell_type": "markdown",
      "source": [
        "####**TASK P23.1** Modify the script from TASK P22.1 so that it prints the GC content for each sequence in the file"
      ],
      "metadata": {
        "id": "kEjUu8HfHniC"
      }
    },
    {
      "cell_type": "markdown",
      "source": [
        "####**TASK P23.2** <font color=orange> **Complete Rosalind #9  Computing GC Content**</font>"
      ],
      "metadata": {
        "id": "nJeXcQR7HwOf"
      }
    },
    {
      "cell_type": "markdown",
      "source": [
        "####**<font color=crimson>TASK 23.3 Commit to GitHub**</font>"
      ],
      "metadata": {
        "id": "gavUUL39INzP"
      }
    },
    {
      "cell_type": "markdown",
      "source": [],
      "metadata": {
        "id": "Zf_OZq9R0dnq"
      }
    },
    {
      "cell_type": "code",
      "source": [
        "def extract_sequences(fasta_text):\n",
        "    seq_dict = {}\n",
        "    current_label = None\n",
        "    current_sequence = []\n",
        "\n",
        "    for line in fasta_text.splitlines():\n",
        "        stripped_line = line.strip()\n",
        "        if not stripped_line:\n",
        "            continue\n",
        "        if stripped_line.startswith(\">\"):\n",
        "            if current_label is not None:\n",
        "                seq_dict[current_label] = ''.join(current_sequence)\n",
        "            current_label = stripped_line[1:]  # Remove '>'\n",
        "            current_sequence = []\n",
        "        else:\n",
        "            current_sequence.append(stripped_line)\n",
        "    if current_label is not None:\n",
        "        seq_dict[current_label] = ''.join(current_sequence)\n",
        "    return seq_dict\n",
        "\n",
        "def calculate_gc_content(sequence):\n",
        "    count_gc = sequence.count('G') + sequence.count('C')\n",
        "    return (count_gc / len(sequence)) * 100\n",
        "\n",
        "# Input FASTA data as a multi-line string\n",
        "fasta_data = \"\"\"\\\n",
        ">Rosalind_2528\n",
        "CGGGCTGTTACTCGAGTGCGTGTGTAGGACTCACCGGACATTCGGGAGTGTTAGTCGCCC\n",
        "CTAACGAAGGCTTTTCCTGGGGTTTTTTCGTGGGACTCCCTCACATTGGCCCGAACTTTG\n",
        "TCTGCATGTGCTTAGATCCAGCGCACGGACTCCGCGATCCATCAAAGGAAAATGTTGCGA\n",
        "ACCAAGGATTCTGTTATTCGGTACACTACTGGAGAAGGCAGCCGGTACCACTCCGTGTTT\n",
        "ACACCGTACCTGATATGGCGTGAAATGTATGTCCGGCTAAGATGCCACTGCGTGATGTAT\n",
        "TTTAACATTAGCAGGCGGCATTAGACTAGCAAGCCAAGAGCCAGTTCAGCGGTGTAGTTC\n",
        "GTGTCTTAATGATCTAGACAACAAGTACGGTCCAAGCACCGGCGATATCAATTGTGTGCG\n",
        "CGCCTCGTATCAGAAGTTGATCACACTCACCCCAGGATCGATGCCTAGTGGCAGGGACTC\n",
        "AATCGATAGCCCTCGGGATACGGGTCGCAGGCTATAAGCCCCGTGGTTTAGGTACAGTCG\n",
        "AGAAAATAGGGAGCAAAGCCGCAATACCTCCCGGAGCGAACTCTACGAAGGTGATGTGGA\n",
        "ATTCCGAGCACCGCGTGAAAGAAAGCTTGTTGGGATGCCGTTGTAACCAGAAGGACCCAT\n",
        "AGCCAATATCGCAAACCGAACCGGGGGCGCAGACTGCTCTGGAGTGTTCGGACAGCTTTA\n",
        "GGGTCGGAATCCATCAAATAATAATCCTTATCCTAGGTAGTACTACCTGCTTCGGGAAAT\n",
        "CGTAGATCTATGGCCCGATCCGTGTTTCTCAGGATCT\n",
        ">Rosalind_0876\n",
        "AAATAGATCAGGCGCGAATTGACGGGTCAACTGTGCGCATTGGCCTGTGTGCTCTTTCGT\n",
        "ATTTTCGGACTTACTTCGGAAGTGTCCAACCTTCATATTGTGAGATCTTGCGTATACTGG\n",
        "AGGAACTCCCTAATTTCCTACCAGGCTGATGCAACTGCCGTGACCCTTCCACATTAGCAA\n",
        "TTCACACTGGAACACGAGTGACGGGATTGCTTCCGGGGCATCACACTGAAACTACAGATC\n",
        "GTCGATGAAGTACACCTGATATGACGCGATTTGGGAACTGACTTCGTGAGGTTGCTCCAC\n",
        "AGCCCTCTACGGCACGCGCTGTTTTAGCGAATTGCATGTAGGTAGCCCCACAGAAATTGA\n",
        "CCAGACTCGCGATCCAAAGTTTTCTAAACTACCGACAGGGTGGTATTGGGCTCTCTCATC\n",
        "TTCAGATATAAATGTCGGTGCCTCACCGCAATACCCACCTTTGTAGTGCGCCTTGGATAC\n",
        "ATGTCCAGGCAAGTTGGTACTTATCGAAACAATCGAGCCTAGGCTATTACGTAATGAGTT\n",
        "GGTCACATCTGACTCAAGGTGCGGGCTTATATGTAGACTAATGCAGGAAGCCTATAATCG\n",
        "AGCGGACAGGTCACCTTTATCGTGCGAGCTGTAATCCATAGCCCAGTGACCCCGGCCTTG\n",
        "AGGGATTCGGCAGTTTTATCTTATCGTCGTCAGACTCTGCGCACAGAGCCCCGCACGGAC\n",
        "CCAGATACGCTCTACATATTTGGTATCCCGAAGATCGCGGTCAGAAGCGAGCTCGGCTGG\n",
        "CTTAGGCACCTTCGACACCTACAAAGCGCAACTGGAGCAGACAGCAGCAGATAACCGACT\n",
        "CTACGGCGTACTCGTAGCAGCGTGCCCGATTTTTAACATAAGCCTGAGGGTG\n",
        ">Rosalind_6813\n",
        "GGCCTGCAAACCTCGGTACCTGTCAATTGTAGTATCCGACACCCTTCCAGGGAATCGTCG\n",
        "GGCTGTGGCCCCGACTTCCGTCCTAGACTGCGTTGGTTGTACGCTATACGGAGCCGCTAC\n",
        "TCCATTCAATATCACCGAATGCTCTCGCCAGGTTTATGGATAACGCCTGAACCGATCACA\n",
        "ATTATACGCCTACTGTGGCAAGAGCACGCAGGATTAAGGTAGCCTACTGGTCTTTCCACG\n",
        "ATTTTCTCTATATGTAAAGTTCCACCCGATGCGCGCTTTTGCCGAGTTTGGCAGAAGTCA\n",
        "CTGTAAGGGACTAAATACTAGCGACCTGCGCTATAGGTTCGACCTGTACTCATGCGGCGG\n",
        "GCCGGTTCGAATTGCGAGTGGTAGTACTGCTTACCGTATACATTAGGTCGGGGCAACGGA\n",
        "GCCTGGGACACATGTTAGCATCCCTTGGCGGCCCTCAAGTGGGGTAGACATTGCTACCAC\n",
        "AAGACGACTGTGGGCTGGTCTTGTGCTGTGTACGGGGGGTCCTGGATGTTAGCTCGGATT\n",
        "CGCTTGTGGCATTGTTTCGAGCCTATCAATAGGCCATAGCTAGGGCCATAGACGGTCTTG\n",
        "AAGTGAGCAGTTCATTGCCCAGCGGAGTGGCCGCGTGCGCCGCAACTGGGCTCGCCGTAG\n",
        "GCCTTCCATGGGAGCGCCTCCATTCATAACTCAGTCACGTTCTTAAACCCGATCGAATGA\n",
        "CAGGCCTACACGTGAACACCCCAGAATATCCCTAGCAAATATCCAGTATCGACGAAGCGG\n",
        "TAACGAGCTGAATACGAACCTTAACAACATGATGTTCGAACGTACGGGCTGCACTATAGT\n",
        "TTTTGATTTCAAACTAGAGCAACTCCACCAGCCGCC\n",
        ">Rosalind_5653\n",
        "ACTACGAGAAGCGAAGGGGCAGATCGTACGTCCGCGAACAACGGTTCACAATGCCTCAAA\n",
        "TGGAGGAACAATACGTTAGCCATCATGATTAAGGTGACCTTGTTCACTGGTCAACCTTCG\n",
        "CGTTGTCGGAATAGGCGCTAATTAAGCGGGATTCCTAGACGAATTCCGAGTATAATCCAG\n",
        "GATTGCCCTAGTTTTCGAAAACGGCTCCACTATTTTCATCAATAAGGGGTGGATGCAAGG\n",
        "TTGTCTACTATATAGTGTGCGTATAAAGAGGACCGTGGTCCACGGCGGTACTCGTAGATT\n",
        "TCCAACCCTTTTGCCAGACTACACCCCGCCAAATGCGACCGCGGAAGTATGCAGGTCCCT\n",
        "GTGCACCGGAACCATAGCGTTCCGGCGTTCAATACTACTCCTATATCCCCTATGACGTGG\n",
        "GGTTTATATGAGTCAGACCGTAAGTTGGATCGGTAACATTCAGGCTCCGAGATACTCCAT\n",
        "GATAAACCCATTGACAAGATGGCAAACGAGGTCTGTACAAGGCTAAGAGTGAGGTGCAAC\n",
        "CATATACCTATCTGGGATTCATGCAACCGTGTGCTGACTGTCCTGCCTTGTCCCTTCTTC\n",
        "GAACACGTTAGTAAACTACGGATGCCACTCCGATATGAGTGATCTATGCGGAACCCTCGT\n",
        "GAAACCATATGTAAGTCTTATTACATGCTAGGGACACCCGTATAACGACTTCTGGGGCCG\n",
        "GAAGCATAATGGCAATTCTGAACAATTTGGTCACGATCCGCTCAAGTCAGGTGTGCGCCT\n",
        "CGGAATGCGCCGTATTCAGCATCCGGCCGATCGCATTGACATTATGCTGACCTGCTAAGC\n",
        "TCTCTCTTTGTGCTCGATAGACCAACGTCCACGAGTCGGTCTCTCTTACAACCCACTCGT\n",
        "ACCGAGCTCGTGTGGGTTCTGCT\n",
        ">Rosalind_6010\n",
        "ATCTACTCCTTTAAGCATTTCGTATGCAGAGAGGCCCTTATAATACGTTCATTTGCATGT\n",
        "TCTGCGAGGCATCCACGCAGGTTCAAGGAGGCGCCTGGCATTTGGACGAGACGGCAGTAC\n",
        "CTACGCGCCTCCACGACCAGTCCTCCGTCGTTCCCCCTGAATCGAGTGAGATTCCGCCGA\n",
        "TTTTCACAACCTTAATGAGTCGCACACTTGGGAGCAGCAAAACTCATCGATGGTTCGATT\n",
        "AAGCGACAATCTGATTGTTGAATAGCCTGGACACAATTCGGACATCGCTCACAGGGTCGA\n",
        "AATATGGTGATTGCCTCAGCCCATAGACTTTAAACTACCGGACGAACCCCAAGGGCCCAC\n",
        "GTAGCACTTGCGGGACCAAGAAACGCTCCCAAGTGACGCCTTCCGAATGCTATGTTAAAT\n",
        "AAATATATACACTATGGACGGGCACAGGGCTGCGAATTAGGCTTCTTTAGTCAATTCATA\n",
        "GAAATGTTCCCAATGTTATGTCCACGTAGGCAGGGCGGATTCAACGTGTTTTTGGGCCGA\n",
        "GGGGCATTCCCATAAGACCAGACCTCGTGCTAATTTGTCCGCCACAGAGAGGGAATCTCT\n",
        "ATCGTGCCGGTCACACTGCAGAGATTCGCTTCCTAACTCTCCCCCGAGAACCGTCAAATA\n",
        "CAAGCCTGTCTAGAGAGCGCCCTTGGGAGGCCAGGCACTGACCCAACAGCTATGTTCCCT\n",
        "TCCGACGAAGCGGGGCTTTTGTCAAGTCTAAATTACATGCCGTAATCGTCCATTAGTACA\n",
        "CGGTGGTTGATATCGTAAGAAACACTTCGTAGCCTCGGTCGGTAGTCAAGCCCCACCCTC\n",
        "GAGGAGTAAATAGGGGCGGTACAATCTTAAGACGCGCGCGGTAAAGGTCGTGTCTGTGTC\n",
        "GGGTGGGACAATTTCGCGTATCTTTTGTAAGGATTGCTGCGAACTAG\n",
        ">Rosalind_3934\n",
        "TGTTGCCGGCCTCGCCTTGCCATCCAGGTGGATTGCTGGAAAAGAGGTTGAATTTAGCCG\n",
        "ACCAGCCTACCGGCTTGTCGACATTTAGACAGCCTCGGTAATGACTCTGGGCTTAGCGCT\n",
        "TCAAGCTGTTGAAATAACTCAGCCCAGTTGGAATATAGTTCTCTTTAAGATTGGGGGGCC\n",
        "GCTCTTTGTGATACCGCGGTCGTATGTCCCGTACACCACTATGCACAGATTCGCTCTATT\n",
        "CGTTAGAACGCCCACAACAGATTCTGCAACTAGATGTTGCTGGGAGTCAGGTAGGAAGTG\n",
        "TGTATTTTATAGGGACATCTGCGACAGCCGCCGGGGGTGGGCCCACCCCATAACGGAACG\n",
        "CTTTGCAACGTATTTGGCTAAGTACGGGCTCCTGGAGGGCTATGGGGGTTCGCGTGGTTG\n",
        "CAAACTTAGGGGGGGGGCTTGAGTCTTTCGGGCCAACTACCCCCCACTTTCCGGGGACTT\n",
        "GAGTGAGATGCGAAATCTGACGTTCCCTAAGGAACTAAGACGTCGCACATGAAGGCTCGC\n",
        "GAACCAGCGACTCCCGTGGAGGTATAGCATTCCCGATCCAGGGATGAATGATTAGGCCCC\n",
        "GGAAGATAAGGGCTATTGGAATTAAAATTAATTCTCTATGTCGGTATTGTAAAATATCGA\n",
        "GCATTTCCACAGCGGGCGTGGAGAATTTAACCTGAAGCAGTTACCCCAAAATGCTGACGG\n",
        "CTCCCTGTCTAATTGAGTGATGGGAATAATGTTGAAATCGTAGGTTACTCTAACAACACG\n",
        "ACGTGTACCGACCCATGCAGCAGGAACCCAATAGTATGACGTGTACGTGTCCAATGCACA\n",
        "GGTTGCT\n",
        ">Rosalind_6108\n",
        "CCGGTGCTGATTGCATGTTTTGAAAACAAAAGTACTTGGTTGTGTATGACCTGGCTGGGC\n",
        "AAGTTATGGTCTAGAACAACGTACCTTAAATCGGATCCCGACTTCATTGATGACTATACA\n",
        "AGTATAATGGAAGGGAGTGATAGTGAGTGGAAATGGATAGGAGGGGCTGATGCCGGAAAC\n",
        "CAGGGTCAGCTCATCGACCGCTGGTGGCTACAAAGCATCACTTCAATGCACTTCATAGCC\n",
        "GGGTCATGAAGAAATGCATAGTACGATCGCCGGAAACGGAGCGCTGATTCTGCCGTTTCA\n",
        "AGCAACGAACTCGCATGGATGCACCGTGGGCTGCGACCTAGTATGTCGATGAAGGCAGTA\n",
        "GAGTTTCATTCGGAGTACTTAATTGAGGAAAATACCCTACGCTGTGTCGAGTTAGCTTTA\n",
        "GCACGGCATCTACTCTTCAGGCAAGGGATTATTACCGCTAGACTCACGATACCGTCAAGT\n",
        "GAAATAGTGGCGGCCTTGATTCCATCACCAGTAATTCTACTAGAAACATGACTCGCTGCA\n",
        "CGGGGGCTGATATCTGGTGTCACTGTTTACGGTAACGCGGAACACGGCGAACGTCTTCAA\n",
        "TTACGAGTAACCCCTGCACGTTATTCTCGTAGGTGTAAACTGATCTAGACAGACGGGAGG\n",
        "CATTTGCTAGCGATACCGAGGCACATCCTCCCGTAGCCCTCCGAGACTGTCTTTTAGCGA\n",
        "TTCGTTGTGTCCGCCCTCGCTCGCAATGCATAGGTAACCGCGCTTTAAGCTCCATCCATG\n",
        "GGGCCCCGCTCTGAACCGGGGAAGCGAAGCACATTACGGCCTAACCGTGGTCGATTATAA\n",
        "GTGTCAGAAACTTACCTGTCACACTGTAAATAGTATATATAAACCACATTTAAAGAGTTT\n",
        "AATGATAATACCGATTAGTAGTCGATAAGGCCTCTTCCGCAGCTCCCCCGAAACCTAATA\n",
        "CCACTAGCTGCGTGCTGCGGGTCCGGGTTGAAT\n",
        ">Rosalind_6920\n",
        "TACCCTAACGGCGATCGCAGGTAGCAGCGGGCAGCACGCGCCAAATGCGCGACCTCTCCC\n",
        "TTACGGGTATGACCAAGAATGTTTTGGGGCGGGACGGGTAGCATTAACAGCTGGCTGTGC\n",
        "GTTACAGATGGCTTCTCAGCCCACGCGGCTCTATATTACACGGTAACATACCTGCGTGGC\n",
        "TATACGACACTCTCAGGGAAGAAGTTAGTCAACGAACTGGAGACCGAGGTGCGGCGCAAC\n",
        "CAGACATCACAACGCACACAAGAAGCATGCCCTAGTACTTGTACGGCCCTGGGAGAGTAT\n",
        "CGTGACGTGAATCAACGAGCAGTTCTGGCACAGAGGAAATTAGGTTAGTTGACTATGGCC\n",
        "GGGAATCGAGTAAACTAGGAAATCTAACATCATCAGTTCAGAAGTGTTACAGAATGATGA\n",
        "TAGCCATCAGGCAAAAACTAAGTGCTCCTTGATAGCAAAGGCGAGGTTGAATGTGCGGAG\n",
        "CTTTATAATTCAATCCCTTGCCGTATGATTACTCGGCGATGAGGACCTTTTGTAACTTAC\n",
        "CCAGGCAATGACACATAGTGTATGTCGTGCATCTAGGTCCGCGTACCTCATACGATGTTT\n",
        "ACTTCTAGTCGTTTTGCGGAAAGCTGTAAGAGAGCTCTAGCCTTGTCGAAGGTCACGGTT\n",
        "GGCAATCTCGACAGCCCAAAGTCCATTAAACCATGTGATTACCTCTAGAGGGTTTACGCC\n",
        "AATGTGACGCCCCGTGATTGAAGGAGTGGGGTAAGCATTGCTTCGACATCCCCTGTGAAC\n",
        "TGAAATTCAGCTCGCCGTCCGATGAACTTACTATTTGACGAGATACAGTCGGGAGCGCCA\n",
        "AACCAGGCCCCCACACTTAAAAGCCAGACACGTTTTCGACTAGCAGCTAATCGATCAAGA\n",
        "GTAGAGAAAAGTCTCTGGTTTGCTCTGTCTAGACACGG\n",
        ">Rosalind_1179\n",
        "CATTCTGTTCACGGTGTATCGCCATCTAGGTAGTCCAGAGCATGTTTGGATCTGCCGGCA\n",
        "CCATACTCTAGCCGCGTAGAATGCGAATTATATTCGTCCTAAACTCAGATCGGAACAACA\n",
        "CTATAACAGGAGTCCGTAGAAAACATGCGTAGGTCCCCGCCCAGTACTGCCATATAAGCG\n",
        "GAAACTCATGTGTAGCAGGGTACTGAATAAATCTACCACTACCGGCCCTGCCGGACGAAG\n",
        "AGATAGATTATACCAAGGCGCTACCGCATGTTTGCAACAGTAAGCGTAGGTCGCCTACGA\n",
        "AGCAGTATGCGCACGTAACGGCATTAGCGTTGGGGATCAAGCTAGTCAGCTCAGCAGCGA\n",
        "CACAGTCTCCAAGTCCGAAGGAAATCTAGCTCAGGAATCATACTGAGGTGGTAGATGTCC\n",
        "GACGTGAAGATTAACATTATCCATGCCATGCCCACTAGCCGAAGCGACTATACAAGCGCA\n",
        "TCAACCACCTCTATATATTGCGATGGCGTCAATGCATTTGACGAAGAGCTTTACGTTGGG\n",
        "CGTCCAGGTGGGGCCGGATGCGACCATTTCCCCTTGGCCGGCGACCGGCCGTATTAGAGT\n",
        "CGACCGTTTTAGTCCGTTATGCGATTAGAGATAAAAGGTATGGTTTCGCGGGGTCGTAAC\n",
        "GTAAGAAAGCCCGCGTAGAGGTTTCTGGGAATCTTCTGTATGTTGTATTCGGGAGACTTA\n",
        "GTGCGAACTTGGCAAGAAAGGCGCACTATACGTATTATGAGGATGTGTTTGTTATTTCAT\n",
        "AAGTCTCTACCGCCCTTGACGCCAGGAGAAAGAAGGCTACATCCGACTCTCTGATTCCGC\n",
        "TCTCCGCACTCATTGTCTAGGCTATCATTGGCCTCCGGTTCCTTAGCGTGTCATGAAGTT\n",
        "GGCAAGTCGCAACCTGCCGACCAAATCAGTGATTCAAGAAGTGGGCTCAGTGC\n",
        ">Rosalind_7574\n",
        "TCACCGTTTTTAACGGCGGCAACAAGATATCGCGTGCTGTTGCCTTGAAACATAGTCCGA\n",
        "GCCATTCAAAGTGACTTGTTCGGGTAGCCACGAACAAACAGGCGGTAACCTCCATACCCC\n",
        "GGCATGTGCGTCATTCGTCTGCAATCATCGAGCGCGCGGCACCGCCTGCTGAATAAACCG\n",
        "TGGTCCATCATAGTATTGGCCCTAAAGAAGTAACACGGAGGATTCCCGGAACGAGAAAGT\n",
        "GGTGTTACTATGATATGAGACGCTTTACGATGCTGTGGATTCCCAGGCCTTTCTAATTTA\n",
        "GGAGAACCTCGCTACCGTCCAGTTCCCCGGAACCATTTAATCTTATGGTAACTATTGGAA\n",
        "CGATGGTGGCTTTGTAACGCATAAGCTCACTGATCTGCCCGTGATTCCTTTTAGGACCCA\n",
        "ATGTAATACTCACAGTTTATAGAGACTGTATCCGTCCAGGTTCAGCGAGTGCTAGTGCGG\n",
        "TCCGACGCGAGTGATCCCTTAGCTCCATTACGTCTGTCGCATGAGGAAGCCATACCCGAT\n",
        "AATCCAGTACCATTGCATAACCGACGCCTGTACGGAAACAGGACCTTACCCATTAGTTTT\n",
        "AGTTTCCCTACCAAATATGGCGGGATGAAGCCGCGTGTCAGAATCGCATCCGTGTTATTA\n",
        "CCCTTGCATCTTCCGGTCCCACGAGACACCCACTTTGACCCCTACAGCGTGGGTCAATCA\n",
        "CTAATGCCAAAGGTTGCTGGGTTCGAAGGGTGTTCTGGGTTTCCGAGCATAGCCTAGTCA\n",
        "TTAAGTGATGCAGGTACGTTGTAGGGCTGATAATCTTACACTAAGGTTAAAAATTCATGC\n",
        "GCGGACGATGGTTTCCGGCTCACATCCGTATACTTGCATGAGGGTAGATTGCTATAGATT\n",
        "TACTTACGCCACGCTTCATATACTGGTTACGGTAGGGGAAAGATAGTCGGCACCGTCTCT\n",
        "CCGCTTTGGCATGACTCAAG\n",
        "\n",
        "\"\"\"\n",
        "\n",
        "# Extract sequences from the FASTA input\n",
        "sequences = extract_sequences(fasta_data)\n",
        "\n",
        "# Find label with highest GC content\n",
        "highest_gc_label = None\n",
        "highest_gc_value = 0.0\n",
        "\n",
        "for label, seq in sequences.items():\n",
        "    gc = calculate_gc_content(seq)\n",
        "    if gc > highest_gc_value:\n",
        "        highest_gc_label = label\n",
        "        highest_gc_value = gc\n",
        "\n",
        "# Print label and GC content with 6 decimal places\n",
        "print(highest_gc_label)\n",
        "print(f\"{highest_gc_value:.6f}\")"
      ],
      "metadata": {
        "id": "yCsFIQiDF1Pn",
        "colab": {
          "base_uri": "https://localhost:8080/"
        },
        "outputId": "8e456518-41e3-4d7a-9f5f-2d0833a89b54"
      },
      "execution_count": 52,
      "outputs": [
        {
          "output_type": "stream",
          "name": "stdout",
          "text": [
            "Rosalind_6813\n",
            "52.853881\n"
          ]
        }
      ]
    }
  ]
}